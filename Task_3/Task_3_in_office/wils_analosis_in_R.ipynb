{
  "nbformat": 4,
  "nbformat_minor": 0,
  "metadata": {
    "colab": {
      "provenance": []
    },
    "kernelspec": {
      "name": "python3",
      "display_name": "Python 3"
    },
    "language_info": {
      "name": "python"
    }
  },
  "cells": [
    {
      "cell_type": "code",
      "execution_count": 1,
      "metadata": {
        "id": "9oDxTHXzbG7Z"
      },
      "outputs": [],
      "source": [
        "%load_ext rpy2.ipython"
      ]
    },
    {
      "cell_type": "code",
      "source": [
        "%%R\n",
        "install.packages(\"readr\", repos='http://cran.us.r-project.org')\n",
        "install.packages(\"dplyr\", repos='http://cran.us.r-project.org')\n",
        "install.packages(\"ggplot2\", repos='http://cran.us.r-project.org')\n",
        "install.packages(\"tidyr\", repos='http://cran.us.r-project.org')\n",
        "install.packages(\"cowplot\", repos = \"http://cran.us.r-project.org\")\n",
        "\n",
        "library(readr)\n",
        "library(dplyr)\n",
        "library(ggplot2)\n",
        "library(tidyr)\n",
        "library(cowplot)"
      ],
      "metadata": {
        "colab": {
          "base_uri": "https://localhost:8080/",
          "height": 885
        },
        "collapsed": true,
        "id": "jnerWohFbPGe",
        "outputId": "28540966-95d8-4b89-9e7a-f2b421f7b822"
      },
      "execution_count": 10,
      "outputs": [
        {
          "output_type": "display_data",
          "data": {
            "text/plain": [
              "Installing package into ‘/usr/local/lib/R/site-library’\n",
              "(as ‘lib’ is unspecified)\n",
              "trying URL 'http://cran.us.r-project.org/src/contrib/readr_2.1.5.tar.gz'\n",
              "Content type 'application/x-gzip' length 298065 bytes (291 KB)\n",
              "==================================================\n",
              "downloaded 291 KB\n",
              "\n",
              "\n",
              "The downloaded source packages are in\n",
              "\t‘/tmp/RtmpOQXOH6/downloaded_packages’\n",
              "Installing package into ‘/usr/local/lib/R/site-library’\n",
              "(as ‘lib’ is unspecified)\n",
              "trying URL 'http://cran.us.r-project.org/src/contrib/dplyr_1.1.4.tar.gz'\n",
              "Content type 'application/x-gzip' length 1207521 bytes (1.2 MB)\n",
              "==================================================\n",
              "downloaded 1.2 MB\n",
              "\n",
              "\n",
              "The downloaded source packages are in\n",
              "\t‘/tmp/RtmpOQXOH6/downloaded_packages’\n",
              "Installing package into ‘/usr/local/lib/R/site-library’\n",
              "(as ‘lib’ is unspecified)\n",
              "trying URL 'http://cran.us.r-project.org/src/contrib/ggplot2_3.5.2.tar.gz'\n",
              "Content type 'application/x-gzip' length 3580451 bytes (3.4 MB)\n",
              "==================================================\n",
              "downloaded 3.4 MB\n",
              "\n",
              "\n",
              "The downloaded source packages are in\n",
              "\t‘/tmp/RtmpOQXOH6/downloaded_packages’\n",
              "Installing package into ‘/usr/local/lib/R/site-library’\n",
              "(as ‘lib’ is unspecified)\n",
              "trying URL 'http://cran.us.r-project.org/src/contrib/tidyr_1.3.1.tar.gz'\n",
              "Content type 'application/x-gzip' length 809058 bytes (790 KB)\n",
              "==================================================\n",
              "downloaded 790 KB\n",
              "\n",
              "\n",
              "The downloaded source packages are in\n",
              "\t‘/tmp/RtmpOQXOH6/downloaded_packages’\n",
              "Installing package into ‘/usr/local/lib/R/site-library’\n",
              "(as ‘lib’ is unspecified)\n",
              "trying URL 'http://cran.us.r-project.org/src/contrib/cowplot_1.1.3.tar.gz'\n",
              "Content type 'application/x-gzip' length 1350286 bytes (1.3 MB)\n",
              "==================================================\n",
              "downloaded 1.3 MB\n",
              "\n",
              "\n",
              "The downloaded source packages are in\n",
              "\t‘/tmp/RtmpOQXOH6/downloaded_packages’\n"
            ]
          },
          "metadata": {}
        }
      ]
    },
    {
      "cell_type": "code",
      "source": [
        "%%R\n",
        "finch_12 <- read.csv(\"finch_beaks_2012.csv\")\n",
        "finch_75 <- read.csv(\"finch_beaks_1975.csv\")\n",
        "colnames(finch_75) <- colnames(finch_12)\n",
        "\n",
        "finch_12$year <- 2012\n",
        "finch_75$year <- 1975\n",
        "\n",
        "finch_full <- rbind(finch_12, finch_75)\n",
        "finch_full$year <- as.factor(finch_full$year)"
      ],
      "metadata": {
        "id": "Yv0JeL4ybT93"
      },
      "execution_count": 11,
      "outputs": []
    },
    {
      "cell_type": "code",
      "source": [
        "%%R\n",
        "str(finch_12)"
      ],
      "metadata": {
        "colab": {
          "base_uri": "https://localhost:8080/"
        },
        "id": "trJYlGMzbaH3",
        "outputId": "36c23c2a-3c12-4f19-ba7d-f8fda489a4ce"
      },
      "execution_count": 12,
      "outputs": [
        {
          "output_type": "stream",
          "name": "stdout",
          "text": [
            "'data.frame':\t248 obs. of  5 variables:\n",
            " $ band   : int  19022 19028 19032 19041 19044 19048 19072 19082 19104 19114 ...\n",
            " $ species: chr  \"fortis\" \"fortis\" \"fortis\" \"fortis\" ...\n",
            " $ blength: num  10 12.5 9.3 10.3 11 10.1 9.6 10.9 10.3 9.8 ...\n",
            " $ bdepth : num  8.5 8.9 7.5 9.6 9.2 8.2 7.8 8.6 8.4 7.7 ...\n",
            " $ year   : num  2012 2012 2012 2012 2012 ...\n"
          ]
        }
      ]
    },
    {
      "cell_type": "code",
      "source": [
        "%%R\n",
        "unique(finch_12$species)\n"
      ],
      "metadata": {
        "colab": {
          "base_uri": "https://localhost:8080/"
        },
        "id": "goH-HumFcco2",
        "outputId": "b3bac49a-098a-4c26-8ecd-c4053e521641"
      },
      "execution_count": 13,
      "outputs": [
        {
          "output_type": "stream",
          "name": "stdout",
          "text": [
            "[1] \"fortis\"   \"scandens\"\n"
          ]
        }
      ]
    },
    {
      "cell_type": "code",
      "source": [
        "%%R\n",
        "# Распределение по длине клюва\n",
        "p_len <- ggplot(finch_full, aes(blength)) +\n",
        "  geom_density() +\n",
        "  facet_grid(year ~ species) +\n",
        "  scale_y_continuous(limits = c(0, 1)) +\n",
        "  theme_bw()\n",
        "\n",
        "# Распределение по глубине клюва\n",
        "p_dep <- ggplot(finch_full, aes(bdepth)) +\n",
        "  geom_histogram() +\n",
        "  facet_grid(year ~ species) +\n",
        "  scale_y_continuous(limits = c(0, 1)) +\n",
        "  theme_bw()\n",
        "\n",
        "# Склеить графики\n",
        "plot_grid(p_dep, p_len)\n",
        "\n",
        "# Отобразить отдельно\n",
        "p_len\n"
      ],
      "metadata": {
        "colab": {
          "base_uri": "https://localhost:8080/",
          "height": 566
        },
        "id": "hGJwoQL8cgw1",
        "outputId": "090fd8d4-b8d7-47a2-a900-4b3e1c3044b3"
      },
      "execution_count": 14,
      "outputs": [
        {
          "output_type": "stream",
          "name": "stdout",
          "text": [
            "`stat_bin()` using `bins = 30`. Pick better value with `binwidth`.\n"
          ]
        },
        {
          "output_type": "display_data",
          "data": {
            "text/plain": [
              "In addition: Warning message:\n",
              "Removed 80 rows containing missing values or values outside the scale range\n",
              "(`geom_bar()`). \n"
            ]
          },
          "metadata": {}
        },
        {
          "output_type": "display_data",
          "data": {
            "image/png": "[encoded data removed]",
            "text/plain": [
              "<IPython.core.display.Image object>"
            ]
          },
          "metadata": {}
        }
      ]
    },
    {
      "cell_type": "code",
      "source": [
        "%%R\n",
        "shapiro.test(finch_12[finch_12$species == 'fortis', ]$blength)\n"
      ],
      "metadata": {
        "colab": {
          "base_uri": "https://localhost:8080/"
        },
        "id": "mLg5qbPleaM2",
        "outputId": "44c34a59-94c7-4341-8093-0f6934d0af79"
      },
      "execution_count": 16,
      "outputs": [
        {
          "output_type": "stream",
          "name": "stdout",
          "text": [
            "\n",
            "\tShapiro-Wilk normality test\n",
            "\n",
            "data:  finch_12[finch_12$species == \"fortis\", ]$blength\n",
            "W = 0.94178, p-value = 5.261e-05\n",
            "\n"
          ]
        }
      ]
    },
    {
      "cell_type": "code",
      "source": [
        "%%R\n",
        "t.test(finch_12[finch_12$species == 'fortis', ]$blength,\n",
        "       finch_12[finch_12$species == 'scandens', ]$blength)\n"
      ],
      "metadata": {
        "colab": {
          "base_uri": "https://localhost:8080/"
        },
        "id": "0FR2WctSeuxN",
        "outputId": "3536631f-5c18-49da-c889-719391b9bbaf"
      },
      "execution_count": 17,
      "outputs": [
        {
          "output_type": "stream",
          "name": "stdout",
          "text": [
            "\n",
            "\tWelch Two Sample t-test\n",
            "\n",
            "data:  finch_12[finch_12$species == \"fortis\", ]$blength and finch_12[finch_12$species == \"scandens\", ]$blength\n",
            "t = -29.825, df = 239.69, p-value < 2.2e-16\n",
            "alternative hypothesis: true difference in means is not equal to 0\n",
            "95 percent confidence interval:\n",
            " -3.095454 -2.711883\n",
            "sample estimates:\n",
            "mean of x mean of y \n",
            " 10.51736  13.42102 \n",
            "\n"
          ]
        }
      ]
    },
    {
      "cell_type": "code",
      "source": [
        "%%R\n",
        "wilcox.test(finch_12[finch_12$species == 'fortis', ]$blength,\n",
        "            finch_12[finch_12$species == 'scandens', ]$blength)\n"
      ],
      "metadata": {
        "colab": {
          "base_uri": "https://localhost:8080/"
        },
        "id": "SUKjLgfLfFcc",
        "outputId": "5c34233e-a983-400f-abac-ee40e7638a2c"
      },
      "execution_count": 19,
      "outputs": [
        {
          "output_type": "stream",
          "name": "stdout",
          "text": [
            "\n",
            "\tWilcoxon rank sum test with continuity correction\n",
            "\n",
            "data:  finch_12[finch_12$species == \"fortis\", ]$blength and finch_12[finch_12$species == \"scandens\", ]$blength\n",
            "W = 126, p-value < 2.2e-16\n",
            "alternative hypothesis: true location shift is not equal to 0\n",
            "\n"
          ]
        }
      ]
    },
    {
      "cell_type": "code",
      "source": [],
      "metadata": {
        "id": "XHWLpTDvfPyU"
      },
      "execution_count": null,
      "outputs": []
    }
  ]
}