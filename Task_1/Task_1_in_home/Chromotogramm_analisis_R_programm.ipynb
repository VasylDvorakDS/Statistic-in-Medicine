{
  "nbformat": 4,
  "nbformat_minor": 0,
  "metadata": {
    "colab": {
      "provenance": []
    },
    "kernelspec": {
      "name": "python3",
      "display_name": "Python 3"
    },
    "language_info": {
      "name": "python"
    }
  },
  "cells": [
    {
      "cell_type": "markdown",
      "source": [
        "# Анализ клинических данных пациентов и хроматограмм\n",
        "\n",
        "Это задание выполнено на языке **R** в среде **Google Colab**.\n",
        "\n",
        "**Что сделано:**\n",
        "1. Загрузка и чтение данных\n",
        "2. Анонимизация персональной информации\n",
        "3. Предположение о типе исследования\n",
        "4. Анализ переменных и их шкал\n",
        "5. Предположение эмпирических гипотез\n"
      ],
      "metadata": {
        "id": "IupI-f6gEg7x"
      }
    },
    {
      "cell_type": "code",
      "execution_count": 45,
      "metadata": {
        "id": "yGn52_fI6OHr",
        "colab": {
          "base_uri": "https://localhost:8080/"
        },
        "outputId": "5a98dd1a-205b-4984-e0e1-04d355e1f9ca"
      },
      "outputs": [
        {
          "output_type": "stream",
          "name": "stdout",
          "text": [
            "The rpy2.ipython extension is already loaded. To reload it, use:\n",
            "  %reload_ext rpy2.ipython\n"
          ]
        }
      ],
      "source": [
        "%load_ext rpy2.ipython"
      ]
    },
    {
      "cell_type": "code",
      "source": [
        "%%R\n",
        "install.packages(\"readr\", repos='http://cran.us.r-project.org')\n",
        "install.packages(\"dplyr\", repos='http://cran.us.r-project.org')\n",
        "install.packages(\"ggplot2\", repos='http://cran.us.r-project.org')\n",
        "install.packages(\"tidyr\", repos='http://cran.us.r-project.org')\n",
        "install.packages(\"gridExtra\", repos=\"http://cran.us.r-project.org\")\n",
        "\n",
        "library(readr)\n",
        "library(dplyr)\n",
        "library(ggplot2)\n",
        "library(tidyr)\n",
        "library(gridExtra)"
      ],
      "metadata": {
        "colab": {
          "base_uri": "https://localhost:8080/",
          "height": 910
        },
        "collapsed": true,
        "id": "8cD3-er-8if4",
        "outputId": "1c9084ab-9ada-41ef-9226-f879dc5514b4"
      },
      "execution_count": 46,
      "outputs": [
        {
          "output_type": "display_data",
          "data": {
            "text/plain": [
              "Installing package into ‘/usr/local/lib/R/site-library’\n",
              "(as ‘lib’ is unspecified)\n",
              "trying URL 'http://cran.us.r-project.org/src/contrib/readr_2.1.5.tar.gz'\n",
              "Content type 'application/x-gzip' length 298065 bytes (291 KB)\n",
              "==================================================\n",
              "downloaded 291 KB\n",
              "\n",
              "\n",
              "The downloaded source packages are in\n",
              "\t‘/tmp/RtmpzWtxzh/downloaded_packages’\n",
              "Installing package into ‘/usr/local/lib/R/site-library’\n",
              "(as ‘lib’ is unspecified)\n",
              "trying URL 'http://cran.us.r-project.org/src/contrib/dplyr_1.1.4.tar.gz'\n",
              "Content type 'application/x-gzip' length 1207521 bytes (1.2 MB)\n",
              "==================================================\n",
              "downloaded 1.2 MB\n",
              "\n",
              "\n",
              "The downloaded source packages are in\n",
              "\t‘/tmp/RtmpzWtxzh/downloaded_packages’\n",
              "Installing package into ‘/usr/local/lib/R/site-library’\n",
              "(as ‘lib’ is unspecified)\n",
              "trying URL 'http://cran.us.r-project.org/src/contrib/ggplot2_3.5.2.tar.gz'\n",
              "Content type 'application/x-gzip' length 3580451 bytes (3.4 MB)\n",
              "==================================================\n",
              "downloaded 3.4 MB\n",
              "\n",
              "\n",
              "The downloaded source packages are in\n",
              "\t‘/tmp/RtmpzWtxzh/downloaded_packages’\n",
              "Installing package into ‘/usr/local/lib/R/site-library’\n",
              "(as ‘lib’ is unspecified)\n",
              "trying URL 'http://cran.us.r-project.org/src/contrib/tidyr_1.3.1.tar.gz'\n",
              "Content type 'application/x-gzip' length 809058 bytes (790 KB)\n",
              "==================================================\n",
              "downloaded 790 KB\n",
              "\n",
              "\n",
              "The downloaded source packages are in\n",
              "\t‘/tmp/RtmpzWtxzh/downloaded_packages’\n",
              "Installing package into ‘/usr/local/lib/R/site-library’\n",
              "(as ‘lib’ is unspecified)\n",
              "trying URL 'http://cran.us.r-project.org/src/contrib/gridExtra_2.3.tar.gz'\n",
              "Content type 'application/x-gzip' length 1062844 bytes (1.0 MB)\n",
              "==================================================\n",
              "downloaded 1.0 MB\n",
              "\n",
              "\n",
              "The downloaded source packages are in\n",
              "\t‘/tmp/RtmpzWtxzh/downloaded_packages’\n"
            ]
          },
          "metadata": {}
        }
      ]
    },
    {
      "cell_type": "code",
      "source": [
        "%%R\n",
        "# Загрузка и распаковка ZIP-файла\n",
        "unzip(\"test_data.zip\", exdir = \"test_data\")\n",
        "files<-list.files(\"test_data\", full.names=TRUE)\n",
        "# Чтение всех TSV-файлов в список\n",
        "data_list<-lapply(files, read_tsv)\n",
        "# Просмотр первых строк каждого файла\n",
        "lapply(data_list, head)\n"
      ],
      "metadata": {
        "colab": {
          "base_uri": "https://localhost:8080/"
        },
        "id": "7wIzDl447Fkm",
        "outputId": "2f187fa8-825c-4c6e-b3a4-c04e75f363a4"
      },
      "execution_count": 47,
      "outputs": [
        {
          "output_type": "stream",
          "name": "stdout",
          "text": [
            "Rows: 27 Columns: 38\n",
            "── Column specification ────────────────────────────────────────────────────────\n",
            "Delimiter: \"\\t\"\n",
            "chr  (1): Name\n",
            "dbl (37): Vial.number, Patient.number, GPHDL1, GPHDL2, GPHDL3, GPHDL4, GPHDL...\n",
            "\n",
            "ℹ Use `spec()` to retrieve the full column specification for this data.\n",
            "ℹ Specify the column types or set `show_col_types = FALSE` to quiet this message.\n",
            "Rows: 29 Columns: 38\n",
            "── Column specification ────────────────────────────────────────────────────────\n",
            "Delimiter: \"\\t\"\n",
            "chr  (1): Name\n",
            "dbl (37): Vial.number, Patient.number, GPLDL1, GPLDL2, GPLDL3, GPLDL4, GPLDL...\n",
            "\n",
            "ℹ Use `spec()` to retrieve the full column specification for this data.\n",
            "ℹ Specify the column types or set `show_col_types = FALSE` to quiet this message.\n",
            "Rows: 38 Columns: 49\n",
            "── Column specification ────────────────────────────────────────────────────────\n",
            "Delimiter: \"\\t\"\n",
            "chr   (2): Name, comorbidities\n",
            "dbl  (46): Vialnumber, Patientnumber, Sucrose, Group, Age, Plasmavolume, Ht,...\n",
            "date  (1): Date\n",
            "\n",
            "ℹ Use `spec()` to retrieve the full column specification for this data.\n",
            "ℹ Specify the column types or set `show_col_types = FALSE` to quiet this message.\n",
            "[[1]]\n",
            "# A tibble: 6 × 38\n",
            "  Vial.number Patient.number Name  GPHDL1 GPHDL2 GPHDL3 GPHDL4 GPHDL5 GPHDL6\n",
            "        <dbl>          <dbl> <chr>  <dbl>  <dbl>  <dbl>  <dbl>  <dbl>  <dbl>\n",
            "1           1             50 HDL     0.38   1.78   0.14   0.05   0.73   2.9 \n",
            "2           3             52 HDL     0.43   1.3    0.23   0.05   0.59   2.62\n",
            "3           4             53 HDL     0.41   3.86   0.31   0.1    0.96   3.19\n",
            "4           5             54 HDL     0.5    1.79   0.23   0.06   0.77   2.96\n",
            "5           6             55 HDL     0.4    3.69   0.17   0.03   0.8    3.04\n",
            "6           7             56 HDL     0.37   2.96   0.22   0.05   1      3   \n",
            "# ℹ 29 more variables: GPHDL7 <dbl>, GPHDL8 <dbl>, GPHDL9 <dbl>, GPHDL10 <dbl>,\n",
            "#   GPHDL11 <dbl>, GPHDL12 <dbl>, GPHDL13 <dbl>, GPHDL14 <dbl>, GPHDL15 <dbl>,\n",
            "#   GPHDL16 <dbl>, GPHDL17 <dbl>, GPHDL18 <dbl>, GPHDL19 <dbl>, GPHDL20 <dbl>,\n",
            "#   GPHDL21 <dbl>, GPHDL22 <dbl>, sum_auc <dbl>, LB <dbl>, HB <dbl>, G1 <dbl>,\n",
            "#   G2 <dbl>, G3 <dbl>, S0 <dbl>, S1 <dbl>, S2 <dbl>, S3 <dbl>, B <dbl>,\n",
            "#   F <dbl>, HM <dbl>\n",
            "\n",
            "[[2]]\n",
            "# A tibble: 6 × 38\n",
            "  Vial.number Patient.number Name  GPLDL1 GPLDL2 GPLDL3 GPLDL4 GPLDL5 GPLDL6\n",
            "        <dbl>          <dbl> <chr>  <dbl>  <dbl>  <dbl>  <dbl>  <dbl>  <dbl>\n",
            "1           1             50 LDL     0.4    6.74   0.2    0.02   1.09   3.79\n",
            "2           3             52 LDL     0.46   7.37   0.39   0.02   1.06   4.55\n",
            "3           4             53 LDL     0.3    8.23   0.26   0.02   0.88   3.66\n",
            "4           5             54 LDL     0.47   7.94   0.29   0.02   1.11   3.97\n",
            "5           6             55 LDL     0.31   9.68   0.18   0.02   0.97   4.5 \n",
            "6           7             56 LDL     0.3    7.32   0.22   0.02   1.12   4.19\n",
            "# ℹ 29 more variables: GPLDL7 <dbl>, GPLDL8 <dbl>, GPLDL9 <dbl>, GPLDL10 <dbl>,\n",
            "#   GPLDL11 <dbl>, GPLDL12 <dbl>, GPLDL13 <dbl>, GPLDL14 <dbl>, GPLDL15 <dbl>,\n",
            "#   GPLDL16 <dbl>, GPLDL17 <dbl>, GPLDL18 <dbl>, GPLDL19 <dbl>, GPLDL20 <dbl>,\n",
            "#   GPLDL21 <dbl>, GPLDL22 <dbl>, sum_auc <dbl>, LB <dbl>, HB <dbl>, G1 <dbl>,\n",
            "#   G2 <dbl>, G3 <dbl>, S0 <dbl>, S1 <dbl>, S2 <dbl>, S3 <dbl>, B <dbl>,\n",
            "#   F <dbl>, HM <dbl>\n",
            "\n",
            "[[3]]\n",
            "# A tibble: 6 × 49\n",
            "  Vialnumber Patientnumber Sucrose Name      Group Date         Age Plasmavolume\n",
            "       <dbl>         <dbl>   <dbl> <chr>     <dbl> <date>     <dbl>        <dbl>\n",
            "1          1            50       0 Begaye, …     0 2023-01-14    63          6.5\n",
            "2          2            51       0 Sweetwat…     0 2022-10-09    47          5.5\n",
            "3          3            52       0 Figurell…     1 2023-10-24    57          7  \n",
            "4          4            53       0 Pamphill…     1 2023-07-02    72          5  \n",
            "5          5            54       0 Morgan, …     1 2022-11-27    57          5  \n",
            "6          6            55       0 Abdul-Am…     1 2022-07-12    79          6.2\n",
            "# ℹ 41 more variables: Ht <dbl>, Wt <dbl>, BMI <dbl>, Sys <dbl>, Dia <dbl>,\n",
            "#   PR <dbl>, Sm <dbl>, Dm <dbl>, HT <dbl>, LVH <dbl>, IHD <dbl>, MI <dbl>,\n",
            "#   Str <dbl>, A_C <dbl>, A_H <dbl>, A_D <dbl>, Choi <dbl>, Tgi <dbl>,\n",
            "#   HDLi <dbl>, LDLi <dbl>, Choi_exp <dbl>, Tgi_exp <dbl>, HDLi_exp <dbl>,\n",
            "#   LDLi_exp <dbl>, AI <dbl>, rlatmin <dbl>, rantmin <dbl>, rposmin <dbl>,\n",
            "#   llatmin <dbl>, lantmin <dbl>, lposmin <dbl>, rlatmax <dbl>, rantmax <dbl>,\n",
            "#   rposmax <dbl>, llatmax <dbl>, lantmax <dbl>, lposmax <dbl>, …\n",
            "\n"
          ]
        }
      ]
    },
    {
      "cell_type": "code",
      "source": [
        "%%R\n",
        "# Функция анонимизации данных: замена ID и имён\n",
        "anonymize <- function(df) {\n",
        "  df <- df %>%\n",
        "    mutate(across(contains(\"name\"), ~\"anon_name\")) %>%\n",
        "    mutate(across(contains(\"id\"), ~sample(10000:99999, n(), replace = FALSE)))\n",
        "  return(df)\n",
        "}\n",
        "\n",
        "# Применение анонимизации ко всем таблицам\n",
        "data_anon <- lapply(data_list, anonymize)\n",
        "lapply(data_anon, head)"
      ],
      "metadata": {
        "colab": {
          "base_uri": "https://localhost:8080/"
        },
        "id": "7jaoI7SG-oQl",
        "outputId": "340f4520-9647-41b2-a1d6-24270a2f0972"
      },
      "execution_count": 48,
      "outputs": [
        {
          "output_type": "stream",
          "name": "stdout",
          "text": [
            "[[1]]\n",
            "# A tibble: 6 × 38\n",
            "  Vial.number Patient.number Name      GPHDL1 GPHDL2 GPHDL3 GPHDL4 GPHDL5 GPHDL6\n",
            "        <dbl>          <dbl> <chr>      <dbl>  <dbl>  <dbl>  <dbl>  <dbl>  <dbl>\n",
            "1           1             50 anon_name   0.38   1.78   0.14   0.05   0.73   2.9 \n",
            "2           3             52 anon_name   0.43   1.3    0.23   0.05   0.59   2.62\n",
            "3           4             53 anon_name   0.41   3.86   0.31   0.1    0.96   3.19\n",
            "4           5             54 anon_name   0.5    1.79   0.23   0.06   0.77   2.96\n",
            "5           6             55 anon_name   0.4    3.69   0.17   0.03   0.8    3.04\n",
            "6           7             56 anon_name   0.37   2.96   0.22   0.05   1      3   \n",
            "# ℹ 29 more variables: GPHDL7 <dbl>, GPHDL8 <dbl>, GPHDL9 <dbl>, GPHDL10 <dbl>,\n",
            "#   GPHDL11 <dbl>, GPHDL12 <dbl>, GPHDL13 <dbl>, GPHDL14 <dbl>, GPHDL15 <dbl>,\n",
            "#   GPHDL16 <dbl>, GPHDL17 <dbl>, GPHDL18 <dbl>, GPHDL19 <dbl>, GPHDL20 <dbl>,\n",
            "#   GPHDL21 <dbl>, GPHDL22 <dbl>, sum_auc <dbl>, LB <dbl>, HB <dbl>, G1 <dbl>,\n",
            "#   G2 <dbl>, G3 <dbl>, S0 <dbl>, S1 <dbl>, S2 <dbl>, S3 <dbl>, B <dbl>,\n",
            "#   F <dbl>, HM <dbl>\n",
            "\n",
            "[[2]]\n",
            "# A tibble: 6 × 38\n",
            "  Vial.number Patient.number Name      GPLDL1 GPLDL2 GPLDL3 GPLDL4 GPLDL5 GPLDL6\n",
            "        <dbl>          <dbl> <chr>      <dbl>  <dbl>  <dbl>  <dbl>  <dbl>  <dbl>\n",
            "1           1             50 anon_name   0.4    6.74   0.2    0.02   1.09   3.79\n",
            "2           3             52 anon_name   0.46   7.37   0.39   0.02   1.06   4.55\n",
            "3           4             53 anon_name   0.3    8.23   0.26   0.02   0.88   3.66\n",
            "4           5             54 anon_name   0.47   7.94   0.29   0.02   1.11   3.97\n",
            "5           6             55 anon_name   0.31   9.68   0.18   0.02   0.97   4.5 \n",
            "6           7             56 anon_name   0.3    7.32   0.22   0.02   1.12   4.19\n",
            "# ℹ 29 more variables: GPLDL7 <dbl>, GPLDL8 <dbl>, GPLDL9 <dbl>, GPLDL10 <dbl>,\n",
            "#   GPLDL11 <dbl>, GPLDL12 <dbl>, GPLDL13 <dbl>, GPLDL14 <dbl>, GPLDL15 <dbl>,\n",
            "#   GPLDL16 <dbl>, GPLDL17 <dbl>, GPLDL18 <dbl>, GPLDL19 <dbl>, GPLDL20 <dbl>,\n",
            "#   GPLDL21 <dbl>, GPLDL22 <dbl>, sum_auc <dbl>, LB <dbl>, HB <dbl>, G1 <dbl>,\n",
            "#   G2 <dbl>, G3 <dbl>, S0 <dbl>, S1 <dbl>, S2 <dbl>, S3 <dbl>, B <dbl>,\n",
            "#   F <dbl>, HM <dbl>\n",
            "\n",
            "[[3]]\n",
            "# A tibble: 6 × 49\n",
            "  Vialnumber Patientnumber Sucrose Name      Group Date         Age Plasmavolume\n",
            "       <dbl>         <dbl>   <dbl> <chr>     <dbl> <date>     <dbl>        <dbl>\n",
            "1          1            50       0 anon_name     0 2023-01-14    63          6.5\n",
            "2          2            51       0 anon_name     0 2022-10-09    47          5.5\n",
            "3          3            52       0 anon_name     1 2023-10-24    57          7  \n",
            "4          4            53       0 anon_name     1 2023-07-02    72          5  \n",
            "5          5            54       0 anon_name     1 2022-11-27    57          5  \n",
            "6          6            55       0 anon_name     1 2022-07-12    79          6.2\n",
            "# ℹ 41 more variables: Ht <dbl>, Wt <dbl>, BMI <dbl>, Sys <dbl>, Dia <dbl>,\n",
            "#   PR <dbl>, Sm <dbl>, Dm <dbl>, HT <dbl>, LVH <dbl>, IHD <dbl>, MI <dbl>,\n",
            "#   Str <dbl>, A_C <dbl>, A_H <dbl>, A_D <dbl>, Choi <dbl>, Tgi <dbl>,\n",
            "#   HDLi <dbl>, LDLi <dbl>, Choi_exp <dbl>, Tgi_exp <dbl>, HDLi_exp <dbl>,\n",
            "#   LDLi_exp <dbl>, AI <dbl>, rlatmin <dbl>, rantmin <dbl>, rposmin <dbl>,\n",
            "#   llatmin <dbl>, lantmin <dbl>, lposmin <dbl>, rlatmax <dbl>, rantmax <dbl>,\n",
            "#   rposmax <dbl>, llatmax <dbl>, lantmax <dbl>, lposmax <dbl>, …\n",
            "\n"
          ]
        }
      ]
    },
    {
      "cell_type": "markdown",
      "source": [
        "# 3. Тип исследования.\n",
        "На основе данных, можно предположить, что проводится:\n",
        "\n",
        " Наблюдательное исследование(обсервационное)\n",
        "Пациентам не давали конкретное лечение, а просто измеряли показатели: холестерин, сахар, давление и т.д.\n",
        "\n",
        "У них брали анализы крови и другие данные, и потом сравнивали группы: например, по возрасту, болезням и т.п.\n",
        "\n",
        "Также возможно, что изучается влияние уровня ЛПВП и ЛПНП на здоровье.\n",
        "\n",
        "# 4. Тип выборки и переменные\n",
        "\n",
        "Тип выборки:\n",
        "Похоже, это взрослые пациенты с возможными проблемами с сердцем, сосудами, обменом веществ (например, гипертония, диабет, инфаркт).\n",
        "\n",
        "Все пациенты имеют данные крови и результаты хроматографии (GPHDL и GPLDL — это анализы липидов).\n",
        "\n",
        "# Переменные и их тип:\n",
        "| Переменная    | Что означает                                 | Тип значения           | Шкала измерения              |\n",
        "|---------------|-----------------------------------------------|-------------------------|------------------------------|\n",
        "| Age           | Возраст пациента                              | Число                   | Шкала отношений              |\n",
        "| Name          | Имя пациента                                  | Текст                   | Номинальная                  |\n",
        "| HDLi, LDLi    | Уровни холестерина                            | Число                   | Шкала отношений              |\n",
        "| Group         | Группа пациента (0 или 1)                     | Метка (контроль / больные) | Номинальная              |\n",
        "| HT, MI, Str   | Есть ли болезнь (гипертония, инфаркт, инсульт) | 0 или 1 (нет/да)       | Номинальная                  |\n",
        "| sum_auc       | Сумма под кривой хроматограммы               | Число                   | Шкала отношений              |\n",
        "| BMI           | Индекс массы тела                             | Число                   | Шкала отношений              |\n",
        "\n",
        "\n",
        "# 5. Эмпирические гипотезы (что можно проверить)\n",
        "\n",
        "\n",
        "**Гипотеза 1:**\n",
        "У пациентов с гипертонией (HT = 1) выше уровень холестерина LDLi, чем у тех, у кого гипертонии нет (HT = 0).\n",
        "\n",
        "Почему: гипертония часто идёт вместе с высоким \"плохим\" холестерином.\n",
        "\n",
        "**Гипотеза 2:**\n",
        "Уровень HDLi (полезного холестерина) снижается с возрастом.\n",
        "\n",
        "Проверяется с помощью корреляции: как Age связан с HDLi.\n",
        "\n",
        "**Гипотеза 3:**\n",
        "Пациенты, у которых был инфаркт (MI = 1), имеют ниже sum_auc по ЛПВП-хроматограмме, чем те, у кого не было инфаркта.\n",
        "\n",
        "Возможно, у них меньше защитных фракций HDL.\n"
      ],
      "metadata": {
        "id": "aOI4g9ZhH8_8"
      }
    },
    {
      "cell_type": "markdown",
      "source": [
        "#Постройте гистограммы распределения"
      ],
      "metadata": {
        "id": "wMBgNAutKrnx"
      }
    },
    {
      "cell_type": "code",
      "source": [
        "%%R\n",
        "\n",
        "df <- data_anon[[2]]\n",
        "\n",
        "vars_to_plot <- c(\"GPLDL1\", \"GPLDL2\", \"GPLDL3\", \"GPLDL4\", \"GPLDL5\", \"GPLDL6\")\n",
        "\n",
        "plot_list <- list()\n",
        "\n",
        "for (var in vars_to_plot) {\n",
        "  if (var %in% colnames(df)) {\n",
        "    plot_list[[var]] <- ggplot(df, aes_string(x = var)) +\n",
        "      geom_histogram(bins = 10, fill = \"skyblue\", color = \"black\") +\n",
        "      labs(title = paste(\"Гистограмма переменной:\", var),\n",
        "           x = var, y = \"Частота\") +\n",
        "      theme_minimal()\n",
        "  } else {\n",
        "    cat(paste(\"Переменная\", var, \"не найдена в таблице\\n\"))\n",
        "  }\n",
        "}\n",
        "\n",
        "# Отобразим все графики по 2 в ряд\n",
        "do.call(grid.arrange, c(plot_list, ncol = 2))\n"
      ],
      "metadata": {
        "id": "4GGMPfgREUre",
        "colab": {
          "base_uri": "https://localhost:8080/",
          "height": 497
        },
        "outputId": "19da8308-a81c-4cbd-f2da-3286f1f695af"
      },
      "execution_count": 49,
      "outputs": [
        {
          "output_type": "display_data",
          "data": {
            "image/png": "[encoded data removed]",
            "text/plain": [
              "<IPython.core.display.Image object>"
            ]
          },
          "metadata": {}
        }
      ]
    },
    {
      "cell_type": "code",
      "source": [],
      "metadata": {
        "id": "kSU_rKmmrdfU"
      },
      "execution_count": 49,
      "outputs": []
    },
    {
      "cell_type": "markdown",
      "source": [
        "#Предполагаемые распределения:\n",
        "\n",
        "| Переменная | Вид гистограммы                                      | Предположительное распределение        |\n",
        "|------------|-------------------------------------------------------|----------------------------------------|\n",
        "| GPLDL1     | Симметричная, колоколообразная                        | Приближенно нормальное                 |\n",
        "| GPLDL2     | Смещено влево (много значений справа)                 | Смещённое (левостороннее)             |\n",
        "| GPLDL3     | Почти симметричная, легкая асимметрия                 | Приближенно нормальное                 |\n",
        "| GPLDL4     | Сильно смещено вправо, высокая плотность слева        | Экспоненциальное / правостороннее      |\n",
        "| GPLDL5     | Почти симметричная, немного сужена по краям           | Нормальное или лог-нормальное          |\n",
        "| GPLDL6     | Симметричная, с выраженным центральным пиком          | Приближенно нормальное                 |\n"
      ],
      "metadata": {
        "id": "8NLTNn_bUv1x"
      }
    },
    {
      "cell_type": "code",
      "source": [
        "%%R\n",
        "summary(data_anon[[2]]$G1)\n"
      ],
      "metadata": {
        "id": "r7NkK1LLUu71",
        "colab": {
          "base_uri": "https://localhost:8080/"
        },
        "outputId": "2fff52f3-66d3-4d96-bcde-62f3374c7652"
      },
      "execution_count": 50,
      "outputs": [
        {
          "output_type": "stream",
          "name": "stdout",
          "text": [
            "   Min. 1st Qu.  Median    Mean 3rd Qu.    Max. \n",
            "  3.270   4.000   4.390   4.395   4.710   5.280 \n"
          ]
        }
      ]
    },
    {
      "cell_type": "markdown",
      "source": [
        "#Гипотеза 1\n",
        "\n",
        "Пациенты с высоким G1 имеют больший sum_auc\n",
        "Группы\tG1 > median(G1) и G1 ≤ median(G1) (разные люди)\n",
        "Выборки\tНезависимые\n",
        "ЗП (зависимая переменная)\tsum_auc\n",
        "НП (независимая переменная)\tG1 (превышает 0.5 или нет)\n",
        "Тест\tt-тест для независимых выборок (если нормальность есть) или #Mann–Whitney"
      ],
      "metadata": {
        "id": "kg8LAeKCf3nF"
      }
    },
    {
      "cell_type": "code",
      "source": [
        "%%R\n",
        "# Создаём группы\n",
        "df$group_g1 <- ifelse(df$G1 > median(df$G1), 'hight', 'low')\n",
        "boxplot(sum_auc ~ group_g1, data=df, col = c('lightblue', 'skyblue'))"
      ],
      "metadata": {
        "colab": {
          "base_uri": "https://localhost:8080/",
          "height": 497
        },
        "id": "k5sNWHCpgHZY",
        "outputId": "163874ff-58d6-463b-9e4f-7aa8ec41605c"
      },
      "execution_count": 51,
      "outputs": [
        {
          "output_type": "display_data",
          "data": {
            "image/png": "[encoded data removed]",
            "text/plain": [
              "<IPython.core.display.Image object>"
            ]
          },
          "metadata": {}
        }
      ]
    },
    {
      "cell_type": "code",
      "source": [
        "%%R\n",
        "# Проверим нормальность распределения sum_auc\n",
        "print(shapiro.test(df$sum_auc))  # если < 0.05 → распределение не нормальное"
      ],
      "metadata": {
        "colab": {
          "base_uri": "https://localhost:8080/"
        },
        "id": "kzUQYuXBhIEt",
        "outputId": "061993ef-3034-4dd4-8a42-ab843907f764"
      },
      "execution_count": 52,
      "outputs": [
        {
          "output_type": "stream",
          "name": "stdout",
          "text": [
            "\n",
            "\tShapiro-Wilk normality test\n",
            "\n",
            "data:  df$sum_auc\n",
            "W = 0.92213, p-value = 0.03453\n",
            "\n"
          ]
        }
      ]
    },
    {
      "cell_type": "code",
      "source": [
        "#Вывод: распределение sum_auc  НЕ нормальное\n",
        "# Сравним группы, непараметрический тест:\n",
        "%%R\n",
        "wilcox.test(sum_auc ~ group_g1, data=df)"
      ],
      "metadata": {
        "colab": {
          "base_uri": "https://localhost:8080/",
          "height": 196
        },
        "id": "Yddqe8mTiA54",
        "outputId": "9f5100c5-2b76-45c2-ab6f-cbd49de57695"
      },
      "execution_count": 53,
      "outputs": [
        {
          "output_type": "stream",
          "name": "stdout",
          "text": [
            "\n",
            "\tWilcoxon rank sum test with continuity correction\n",
            "\n",
            "data:  sum_auc by group_g1\n",
            "W = 55, p-value = 0.02699\n",
            "alternative hypothesis: true location shift is not equal to 0\n",
            "\n"
          ]
        },
        {
          "output_type": "display_data",
          "data": {
            "text/plain": [
              "In addition: Warning message:\n",
              "In wilcox.test.default(x = DATA[[1L]], y = DATA[[2L]], ...) :\n",
              "  cannot compute exact p-value with ties\n"
            ]
          },
          "metadata": {}
        }
      ]
    },
    {
      "cell_type": "markdown",
      "source": [
        " p-value < 0.05, значит группы различаются статистически значимо\n",
        "\n",
        "Уверенно можно сказать, что уровень sum_auc реально отличается у двух групп с G1 > median(G1) и G1 ≤ median(G1).\n"
      ],
      "metadata": {
        "id": "Y-AR3Bcpi_jO"
      }
    },
    {
      "cell_type": "markdown",
      "source": [
        "# Гипотеза 2\n",
        "\n",
        "Значения GPLDL2 и GPLDL6 различаются у одного пациента\n",
        "Группы\tте же люди, 2 фракции.\n",
        "Выборки\tЗависимые\n",
        "ЗП\tGPLDL2 и GPLDL6\n",
        "НП\tнет (это парные наблюдения)\n",
        "Тест\tt-тест для зависимых выборок (или Wilcoxon, если не нормальные)"
      ],
      "metadata": {
        "id": "Dl2hU2VJj4sj"
      }
    },
    {
      "cell_type": "code",
      "source": [
        "%%R\n",
        "# Проверим нормальность разницы\n",
        "print(shapiro.test(df$GPLDL2-df$GPLDL6))  # если < 0.05 → распределение не нормальное"
      ],
      "metadata": {
        "colab": {
          "base_uri": "https://localhost:8080/"
        },
        "id": "tehzXhYsj3kv",
        "outputId": "b1b0b2e1-8b4f-4189-ebf7-bfd4123a0c8a"
      },
      "execution_count": 54,
      "outputs": [
        {
          "output_type": "stream",
          "name": "stdout",
          "text": [
            "\n",
            "\tShapiro-Wilk normality test\n",
            "\n",
            "data:  df$GPLDL2 - df$GPLDL6\n",
            "W = 0.98401, p-value = 0.9263\n",
            "\n"
          ]
        }
      ]
    },
    {
      "cell_type": "code",
      "source": [
        "#pvalue>0.05\tРазность похожа на нормальное распределение\n",
        "#Применяем парный t-тест, если разности нормально распределены\n",
        "# Парный тест\n",
        "%%R\n",
        "t.test(df$GPLDL2, df$GPLDL6, paired=TRUE)"
      ],
      "metadata": {
        "colab": {
          "base_uri": "https://localhost:8080/"
        },
        "id": "GTtzySPsm3X4",
        "outputId": "9cc29c6b-a746-43f1-cd34-47312a727081"
      },
      "execution_count": 55,
      "outputs": [
        {
          "output_type": "stream",
          "name": "stdout",
          "text": [
            "\n",
            "\tPaired t-test\n",
            "\n",
            "data:  df$GPLDL2 and df$GPLDL6\n",
            "t = 30.675, df = 28, p-value < 2.2e-16\n",
            "alternative hypothesis: true mean difference is not equal to 0\n",
            "95 percent confidence interval:\n",
            " 3.491220 3.990849\n",
            "sample estimates:\n",
            "mean difference \n",
            "       3.741034 \n",
            "\n"
          ]
        }
      ]
    },
    {
      "cell_type": "markdown",
      "source": [
        "Так как p-value меньше 0.05,\n",
        "\n",
        "Это говорит о том, что различие между двумя сравниваемыми группами статистически значимо.\n",
        "\n",
        "Можно отвергнуть нулевую гипотезу\n",
        ": разницы между фракциями есть, и она не случайна."
      ],
      "metadata": {
        "id": "JQvhBkH8oSt2"
      }
    },
    {
      "cell_type": "code",
      "source": [
        "%%R\n",
        "# Создаём три группы\n",
        "interval <- (max(df$G1)-min(df$G1))/3\n",
        "df$group_g3 <- ifelse(df$G1 > interval, ifelse(df$G1 > interval*2, 'hight', 'middle'), 'low')\n",
        "boxplot(sum_auc ~ group_g3, data=df, col = c('lightblue', 'skyblue', 'blue'))"
      ],
      "metadata": {
        "id": "8RkB6ey6oZSt",
        "colab": {
          "base_uri": "https://localhost:8080/",
          "height": 497
        },
        "outputId": "1114321d-c6c2-4cf5-86b8-80e00de3f2c8"
      },
      "execution_count": 56,
      "outputs": [
        {
          "output_type": "display_data",
          "data": {
            "image/png": "[encoded data removed]",
            "text/plain": [
              "<IPython.core.display.Image object>"
            ]
          },
          "metadata": {}
        }
      ]
    },
    {
      "cell_type": "code",
      "source": [
        "%%R\n",
        "\n",
        "install.packages(\"multcomp\", repos=\"http://cran.us.r-project.org\")\n",
        "\n",
        "library(multcomp)"
      ],
      "metadata": {
        "colab": {
          "base_uri": "https://localhost:8080/",
          "height": 196
        },
        "id": "7afkWE0SvGCs",
        "outputId": "3f4527bd-49f4-4218-cf75-baf2228957cc"
      },
      "execution_count": 57,
      "outputs": [
        {
          "output_type": "display_data",
          "data": {
            "text/plain": [
              "Installing package into ‘/usr/local/lib/R/site-library’\n",
              "(as ‘lib’ is unspecified)\n",
              "trying URL 'http://cran.us.r-project.org/src/contrib/multcomp_1.4-28.tar.gz'\n",
              "Content type 'application/x-gzip' length 597875 bytes (583 KB)\n",
              "==================================================\n",
              "downloaded 583 KB\n",
              "\n",
              "\n",
              "The downloaded source packages are in\n",
              "\t‘/tmp/RtmpzWtxzh/downloaded_packages’\n"
            ]
          },
          "metadata": {}
        }
      ]
    },
    {
      "cell_type": "markdown",
      "source": [],
      "metadata": {
        "id": "ImN7K6jf_uSs"
      }
    },
    {
      "cell_type": "markdown",
      "source": [],
      "metadata": {
        "id": "FrMRPvor_uV0"
      }
    },
    {
      "cell_type": "markdown",
      "source": [],
      "metadata": {
        "id": "UpZnqz4O_uYn"
      }
    },
    {
      "cell_type": "markdown",
      "source": [
        "#**Задание 4**\n",
        "\n",
        "-Сформулируйте несколько гипотез для трех групп, которые можно проверить на имеющихся данных. Укажите, зависимые или независимые выборки, ЗП, НП.\n",
        "\n",
        "-Выберите подходящий тест и проверьте ваши предположения."
      ],
      "metadata": {
        "id": "ngxada_6-_E_"
      }
    },
    {
      "cell_type": "code",
      "source": [
        "%%R\n",
        "# Загружаем таблицы\n",
        "gphdl <- data_anon[[1]]\n",
        "gpldl <- data_anon[[2]]\n",
        "meta <- data_anon[[3]]\n",
        "# Объединяем с клиническими данными\n",
        "merged_hdl <- merge(gphdl, meta, by.x = \"Patient.number\", by.y = \"Patientnumber\")\n",
        "merged_ldl <- merge(gpldl, meta, by.x = \"Patient.number\", by.y = \"Patientnumber\")"
      ],
      "metadata": {
        "id": "iYnJps1mvVuY"
      },
      "execution_count": 58,
      "outputs": []
    },
    {
      "cell_type": "markdown",
      "source": [
        "# Гипотеза 1:\n",
        "Средние значения sum_auc (GPHDL) отличаются между тремя подгруппами переменной G1.\n",
        "\n",
        "Зависимая переменная (ЗП): sum_auc\n",
        "\n",
        "Независимая переменная (НП): G1\n",
        "\n",
        "Выборки: независимые\n",
        "\n",
        "Тест: однофакторный ANOVA (aov) или Краскел–Уоллис (kruskal.test)"
      ],
      "metadata": {
        "id": "kegqq5vhEF_x"
      }
    },
    {
      "cell_type": "code",
      "source": [
        "%%R\n",
        "# Проверка нормальности остатков (для ANOVA)\n",
        "shapiro.test(resid(aov(sum_auc ~ as.factor(G1), data = merged_hdl)))\n"
      ],
      "metadata": {
        "colab": {
          "base_uri": "https://localhost:8080/"
        },
        "id": "iputO1HxDe4X",
        "outputId": "b2e4902a-cbd7-4b52-9fca-8a5f98777a9d"
      },
      "execution_count": 79,
      "outputs": [
        {
          "output_type": "stream",
          "name": "stdout",
          "text": [
            "\n",
            "\tShapiro-Wilk normality test\n",
            "\n",
            "data:  resid(aov(sum_auc ~ as.factor(G1), data = merged_hdl))\n",
            "W = 0.80684, p-value = 2.786e-05\n",
            "\n"
          ]
        }
      ]
    },
    {
      "cell_type": "markdown",
      "source": [
        "p < 0.05, распределения не нормальные"
      ],
      "metadata": {
        "id": "Jsvl89jyHLdw"
      }
    },
    {
      "cell_type": "code",
      "source": [
        "%%R\n",
        "#нормальность не выполнена — Kruskal-Wallis test\n",
        "kruskal.test(sum_auc ~ as.factor(G1), data = merged_hdl)"
      ],
      "metadata": {
        "colab": {
          "base_uri": "https://localhost:8080/"
        },
        "id": "U4mxEs4CHfsT",
        "outputId": "6266da07-dac9-4b96-bc6e-e2403fa0805b"
      },
      "execution_count": 83,
      "outputs": [
        {
          "output_type": "stream",
          "name": "stdout",
          "text": [
            "\n",
            "\tKruskal-Wallis rank sum test\n",
            "\n",
            "data:  sum_auc by as.factor(G1)\n",
            "Kruskal-Wallis chi-squared = 34, df = 25, p-value = 0.1079\n",
            "\n"
          ]
        }
      ]
    },
    {
      "cell_type": "markdown",
      "source": [],
      "metadata": {
        "id": "gKrcmn72ITPJ"
      }
    },
    {
      "cell_type": "markdown",
      "source": [
        "p > 0.05, Нет доказательств различий"
      ],
      "metadata": {
        "id": "TlvzQyAZIBgI"
      }
    },
    {
      "cell_type": "markdown",
      "source": [
        "#Гипотеза 2:\n",
        "\n",
        "Средние значения sum_auc (GPLDL) отличаются между тремя группами S1.\n",
        "\n",
        "ЗП: sum_auc\n",
        "\n",
        "НП: S1\n",
        "\n",
        "Выборки: независимые\n",
        "\n",
        "Тест: ANOVA или Краскел–Уоллис"
      ],
      "metadata": {
        "id": "Y0m3ia3lIi4V"
      }
    },
    {
      "cell_type": "code",
      "source": [
        "%%R\n",
        "# Проверка нормальности остатков (для ANOVA)\n",
        "shapiro.test(resid(aov(sum_auc ~ as.factor(S1), data = merged_ldl)))"
      ],
      "metadata": {
        "colab": {
          "base_uri": "https://localhost:8080/"
        },
        "id": "tSHe8j4gF7HH",
        "outputId": "3375e9c3-252b-4764-b590-df00144a88b1"
      },
      "execution_count": 80,
      "outputs": [
        {
          "output_type": "stream",
          "name": "stdout",
          "text": [
            "\n",
            "\tShapiro-Wilk normality test\n",
            "\n",
            "data:  resid(aov(sum_auc ~ as.factor(S1), data = merged_ldl))\n",
            "W = 0.55365, p-value = 1.047e-09\n",
            "\n"
          ]
        }
      ]
    },
    {
      "cell_type": "markdown",
      "source": [
        "p < 0.05, распределения не нормальные"
      ],
      "metadata": {
        "id": "Qdo17ZBfHM-Y"
      }
    },
    {
      "cell_type": "code",
      "source": [
        "%%R\n",
        "#нормальность не выполнена — Kruskal-Wallis test\n",
        "kruskal.test(sum_auc ~ as.factor(S1), data = merged_ldl)"
      ],
      "metadata": {
        "colab": {
          "base_uri": "https://localhost:8080/"
        },
        "id": "q25aWo7QHw2f",
        "outputId": "e427408c-9750-4677-954a-273704c4892b"
      },
      "execution_count": 84,
      "outputs": [
        {
          "output_type": "stream",
          "name": "stdout",
          "text": [
            "\n",
            "\tKruskal-Wallis rank sum test\n",
            "\n",
            "data:  sum_auc by as.factor(S1)\n",
            "Kruskal-Wallis chi-squared = 37.221, df = 26, p-value = 0.0714\n",
            "\n"
          ]
        }
      ]
    },
    {
      "cell_type": "markdown",
      "source": [
        "p > 0.05, Нет доказательств различий"
      ],
      "metadata": {
        "id": "Eh9Yhl12IGhJ"
      }
    },
    {
      "cell_type": "markdown",
      "source": [
        " # Гипотеза 3:\n",
        "\n",
        "Средние значения sum_auc (GPHDL) различаются между уровнями HM (например, 0, 1, 2).\n",
        "\n",
        "ЗП: sum_auc\n",
        "\n",
        "НП: HM\n",
        "\n",
        "Выборки: независимые\n",
        "\n",
        "Тест: ANOVA или Краскел–Уоллис"
      ],
      "metadata": {
        "id": "iMH795lZIu-a"
      }
    },
    {
      "cell_type": "code",
      "source": [
        "%%R\n",
        "# Проверка нормальности остатков (для ANOVA)\n",
        "shapiro.test(resid(aov(sum_auc ~ as.factor(HM), data = merged_hdl)))"
      ],
      "metadata": {
        "colab": {
          "base_uri": "https://localhost:8080/"
        },
        "id": "ZRIJBpGtG0tf",
        "outputId": "a1c187b0-86f9-47ff-bc0d-2e4f961b161c"
      },
      "execution_count": 82,
      "outputs": [
        {
          "output_type": "stream",
          "name": "stdout",
          "text": [
            "\n",
            "\tShapiro-Wilk normality test\n",
            "\n",
            "data:  resid(aov(sum_auc ~ as.factor(HM), data = merged_hdl))\n",
            "W = 0.82507, p-value = 6.583e-05\n",
            "\n"
          ]
        }
      ]
    },
    {
      "cell_type": "markdown",
      "source": [
        "p < 0.05, распределения не нормальные"
      ],
      "metadata": {
        "id": "1DZN_fQBFiHQ"
      }
    },
    {
      "cell_type": "code",
      "source": [
        "%%R\n",
        "#нормальность не выполнена — Kruskal-Wallis test\n",
        "kruskal.test(sum_auc ~ as.factor(HM), data = merged_hdl)"
      ],
      "metadata": {
        "colab": {
          "base_uri": "https://localhost:8080/"
        },
        "id": "IucIzzTKF1NL",
        "outputId": "b6fe7e28-d54c-4ea2-dcd0-460863c2dc6c"
      },
      "execution_count": 77,
      "outputs": [
        {
          "output_type": "stream",
          "name": "stdout",
          "text": [
            "\n",
            "\tKruskal-Wallis rank sum test\n",
            "\n",
            "data:  sum_auc by as.factor(HM)\n",
            "Kruskal-Wallis chi-squared = 34, df = 26, p-value = 0.135\n",
            "\n"
          ]
        }
      ]
    },
    {
      "cell_type": "markdown",
      "source": [
        "p > 0.05, Нет доказательств различий"
      ],
      "metadata": {
        "id": "0wOoexClGvtY"
      }
    }
  ]
}