{
  "nbformat": 4,
  "nbformat_minor": 0,
  "metadata": {
    "colab": {
      "provenance": []
    },
    "kernelspec": {
      "name": "python3",
      "display_name": "Python 3"
    },
    "language_info": {
      "name": "python"
    }
  },
  "cells": [
    {
      "cell_type": "markdown",
      "source": [
        "# Анализ клинических данных пациентов и хроматограмм\n",
        "\n",
        "Это задание выполнено на языке **R** в среде **Google Colab**.\n",
        "\n",
        "**Что сделано:**\n",
        "1. Загрузка и чтение данных\n",
        "2. Анонимизация персональной информации\n",
        "3. Предположение о типе исследования\n",
        "4. Анализ переменных и их шкал\n",
        "5. Предположение эмпирических гипотез\n"
      ],
      "metadata": {
        "id": "IupI-f6gEg7x"
      }
    },
    {
      "cell_type": "code",
      "execution_count": 1,
      "metadata": {
        "id": "yGn52_fI6OHr"
      },
      "outputs": [],
      "source": [
        "%load_ext rpy2.ipython"
      ]
    },
    {
      "cell_type": "code",
      "source": [
        "%%R\n",
        "install.packages(\"readr\", repos='http://cran.us.r-project.org')\n",
        "install.packages(\"dplyr\", repos='http://cran.us.r-project.org')\n",
        "install.packages(\"ggplot2\", repos='http://cran.us.r-project.org')\n",
        "install.packages(\"tidyr\", repos='http://cran.us.r-project.org')\n",
        "\n",
        "library(readr)\n",
        "library(dplyr)\n",
        "library(ggplot2)\n",
        "library(tidyr)"
      ],
      "metadata": {
        "colab": {
          "base_uri": "https://localhost:8080/",
          "height": 902
        },
        "collapsed": true,
        "id": "8cD3-er-8if4",
        "outputId": "00a383c0-c87a-4137-a7cc-6da55fcc857a"
      },
      "execution_count": 5,
      "outputs": [
        {
          "output_type": "display_data",
          "data": {
            "text/plain": [
              "Installing package into ‘/usr/local/lib/R/site-library’\n",
              "(as ‘lib’ is unspecified)\n",
              "trying URL 'http://cran.us.r-project.org/src/contrib/readr_2.1.5.tar.gz'\n",
              "Content type 'application/x-gzip' length 298065 bytes (291 KB)\n",
              "==================================================\n",
              "downloaded 291 KB\n",
              "\n",
              "\n",
              "The downloaded source packages are in\n",
              "\t‘/tmp/RtmpMHW3yg/downloaded_packages’\n",
              "Installing package into ‘/usr/local/lib/R/site-library’\n",
              "(as ‘lib’ is unspecified)\n",
              "trying URL 'http://cran.us.r-project.org/src/contrib/dplyr_1.1.4.tar.gz'\n",
              "Content type 'application/x-gzip' length 1207521 bytes (1.2 MB)\n",
              "==================================================\n",
              "downloaded 1.2 MB\n",
              "\n",
              "\n",
              "The downloaded source packages are in\n",
              "\t‘/tmp/RtmpMHW3yg/downloaded_packages’\n",
              "Installing package into ‘/usr/local/lib/R/site-library’\n",
              "(as ‘lib’ is unspecified)\n",
              "trying URL 'http://cran.us.r-project.org/src/contrib/ggplot2_3.5.2.tar.gz'\n",
              "Content type 'application/x-gzip' length 3580451 bytes (3.4 MB)\n",
              "==================================================\n",
              "downloaded 3.4 MB\n",
              "\n",
              "\n",
              "The downloaded source packages are in\n",
              "\t‘/tmp/RtmpMHW3yg/downloaded_packages’\n",
              "Installing package into ‘/usr/local/lib/R/site-library’\n",
              "(as ‘lib’ is unspecified)\n",
              "trying URL 'http://cran.us.r-project.org/src/contrib/tidyr_1.3.1.tar.gz'\n",
              "Content type 'application/x-gzip' length 809058 bytes (790 KB)\n",
              "==================================================\n",
              "downloaded 790 KB\n",
              "\n",
              "\n",
              "The downloaded source packages are in\n",
              "\t‘/tmp/RtmpMHW3yg/downloaded_packages’\n",
              "\n",
              "Attaching package: ‘dplyr’\n",
              "\n",
              "The following objects are masked from ‘package:stats’:\n",
              "\n",
              "    filter, lag\n",
              "\n",
              "The following objects are masked from ‘package:base’:\n",
              "\n",
              "    intersect, setdiff, setequal, union\n",
              "\n"
            ]
          },
          "metadata": {}
        }
      ]
    },
    {
      "cell_type": "code",
      "source": [
        "%%R\n",
        "# Загрузка и распаковка ZIP-файла\n",
        "unzip(\"test_data.zip\", exdir = \"test_data\")\n",
        "files<-list.files(\"test_data\", full.names=TRUE)\n",
        "# Чтение всех TSV-файлов в список\n",
        "data_list<-lapply(files, read_tsv)\n",
        "# Просмотр первых строк каждого файла\n",
        "lapply(data_list, head)\n"
      ],
      "metadata": {
        "colab": {
          "base_uri": "https://localhost:8080/"
        },
        "id": "7wIzDl447Fkm",
        "outputId": "c5d1c0b7-0f95-442d-ce2a-2ba690349113"
      },
      "execution_count": 12,
      "outputs": [
        {
          "output_type": "stream",
          "name": "stdout",
          "text": [
            "Rows: 27 Columns: 38\n",
            "── Column specification ────────────────────────────────────────────────────────\n",
            "Delimiter: \"\\t\"\n",
            "chr  (1): Name\n",
            "dbl (37): Vial.number, Patient.number, GPHDL1, GPHDL2, GPHDL3, GPHDL4, GPHDL...\n",
            "\n",
            "ℹ Use `spec()` to retrieve the full column specification for this data.\n",
            "ℹ Specify the column types or set `show_col_types = FALSE` to quiet this message.\n",
            "Rows: 29 Columns: 38\n",
            "── Column specification ────────────────────────────────────────────────────────\n",
            "Delimiter: \"\\t\"\n",
            "chr  (1): Name\n",
            "dbl (37): Vial.number, Patient.number, GPLDL1, GPLDL2, GPLDL3, GPLDL4, GPLDL...\n",
            "\n",
            "ℹ Use `spec()` to retrieve the full column specification for this data.\n",
            "ℹ Specify the column types or set `show_col_types = FALSE` to quiet this message.\n",
            "Rows: 38 Columns: 49\n",
            "── Column specification ────────────────────────────────────────────────────────\n",
            "Delimiter: \"\\t\"\n",
            "chr   (2): Name, comorbidities\n",
            "dbl  (46): Vialnumber, Patientnumber, Sucrose, Group, Age, Plasmavolume, Ht,...\n",
            "date  (1): Date\n",
            "\n",
            "ℹ Use `spec()` to retrieve the full column specification for this data.\n",
            "ℹ Specify the column types or set `show_col_types = FALSE` to quiet this message.\n",
            "[[1]]\n",
            "# A tibble: 6 × 38\n",
            "  Vial.number Patient.number Name  GPHDL1 GPHDL2 GPHDL3 GPHDL4 GPHDL5 GPHDL6\n",
            "        <dbl>          <dbl> <chr>  <dbl>  <dbl>  <dbl>  <dbl>  <dbl>  <dbl>\n",
            "1           1             50 HDL     0.38   1.78   0.14   0.05   0.73   2.9 \n",
            "2           3             52 HDL     0.43   1.3    0.23   0.05   0.59   2.62\n",
            "3           4             53 HDL     0.41   3.86   0.31   0.1    0.96   3.19\n",
            "4           5             54 HDL     0.5    1.79   0.23   0.06   0.77   2.96\n",
            "5           6             55 HDL     0.4    3.69   0.17   0.03   0.8    3.04\n",
            "6           7             56 HDL     0.37   2.96   0.22   0.05   1      3   \n",
            "# ℹ 29 more variables: GPHDL7 <dbl>, GPHDL8 <dbl>, GPHDL9 <dbl>, GPHDL10 <dbl>,\n",
            "#   GPHDL11 <dbl>, GPHDL12 <dbl>, GPHDL13 <dbl>, GPHDL14 <dbl>, GPHDL15 <dbl>,\n",
            "#   GPHDL16 <dbl>, GPHDL17 <dbl>, GPHDL18 <dbl>, GPHDL19 <dbl>, GPHDL20 <dbl>,\n",
            "#   GPHDL21 <dbl>, GPHDL22 <dbl>, sum_auc <dbl>, LB <dbl>, HB <dbl>, G1 <dbl>,\n",
            "#   G2 <dbl>, G3 <dbl>, S0 <dbl>, S1 <dbl>, S2 <dbl>, S3 <dbl>, B <dbl>,\n",
            "#   F <dbl>, HM <dbl>\n",
            "\n",
            "[[2]]\n",
            "# A tibble: 6 × 38\n",
            "  Vial.number Patient.number Name  GPLDL1 GPLDL2 GPLDL3 GPLDL4 GPLDL5 GPLDL6\n",
            "        <dbl>          <dbl> <chr>  <dbl>  <dbl>  <dbl>  <dbl>  <dbl>  <dbl>\n",
            "1           1             50 LDL     0.4    6.74   0.2    0.02   1.09   3.79\n",
            "2           3             52 LDL     0.46   7.37   0.39   0.02   1.06   4.55\n",
            "3           4             53 LDL     0.3    8.23   0.26   0.02   0.88   3.66\n",
            "4           5             54 LDL     0.47   7.94   0.29   0.02   1.11   3.97\n",
            "5           6             55 LDL     0.31   9.68   0.18   0.02   0.97   4.5 \n",
            "6           7             56 LDL     0.3    7.32   0.22   0.02   1.12   4.19\n",
            "# ℹ 29 more variables: GPLDL7 <dbl>, GPLDL8 <dbl>, GPLDL9 <dbl>, GPLDL10 <dbl>,\n",
            "#   GPLDL11 <dbl>, GPLDL12 <dbl>, GPLDL13 <dbl>, GPLDL14 <dbl>, GPLDL15 <dbl>,\n",
            "#   GPLDL16 <dbl>, GPLDL17 <dbl>, GPLDL18 <dbl>, GPLDL19 <dbl>, GPLDL20 <dbl>,\n",
            "#   GPLDL21 <dbl>, GPLDL22 <dbl>, sum_auc <dbl>, LB <dbl>, HB <dbl>, G1 <dbl>,\n",
            "#   G2 <dbl>, G3 <dbl>, S0 <dbl>, S1 <dbl>, S2 <dbl>, S3 <dbl>, B <dbl>,\n",
            "#   F <dbl>, HM <dbl>\n",
            "\n",
            "[[3]]\n",
            "# A tibble: 6 × 49\n",
            "  Vialnumber Patientnumber Sucrose Name      Group Date         Age Plasmavolume\n",
            "       <dbl>         <dbl>   <dbl> <chr>     <dbl> <date>     <dbl>        <dbl>\n",
            "1          1            50       0 Begaye, …     0 2023-01-14    63          6.5\n",
            "2          2            51       0 Sweetwat…     0 2022-10-09    47          5.5\n",
            "3          3            52       0 Figurell…     1 2023-10-24    57          7  \n",
            "4          4            53       0 Pamphill…     1 2023-07-02    72          5  \n",
            "5          5            54       0 Morgan, …     1 2022-11-27    57          5  \n",
            "6          6            55       0 Abdul-Am…     1 2022-07-12    79          6.2\n",
            "# ℹ 41 more variables: Ht <dbl>, Wt <dbl>, BMI <dbl>, Sys <dbl>, Dia <dbl>,\n",
            "#   PR <dbl>, Sm <dbl>, Dm <dbl>, HT <dbl>, LVH <dbl>, IHD <dbl>, MI <dbl>,\n",
            "#   Str <dbl>, A_C <dbl>, A_H <dbl>, A_D <dbl>, Choi <dbl>, Tgi <dbl>,\n",
            "#   HDLi <dbl>, LDLi <dbl>, Choi_exp <dbl>, Tgi_exp <dbl>, HDLi_exp <dbl>,\n",
            "#   LDLi_exp <dbl>, AI <dbl>, rlatmin <dbl>, rantmin <dbl>, rposmin <dbl>,\n",
            "#   llatmin <dbl>, lantmin <dbl>, lposmin <dbl>, rlatmax <dbl>, rantmax <dbl>,\n",
            "#   rposmax <dbl>, llatmax <dbl>, lantmax <dbl>, lposmax <dbl>, …\n",
            "\n"
          ]
        }
      ]
    },
    {
      "cell_type": "code",
      "source": [
        "%%R\n",
        "# Функция анонимизации данных: замена ID и имён\n",
        "anonymize <- function(df) {\n",
        "  df <- df %>%\n",
        "    mutate(across(contains(\"name\"), ~\"anon_name\")) %>%\n",
        "    mutate(across(contains(\"id\"), ~sample(10000:99999, n(), replace = FALSE)))\n",
        "  return(df)\n",
        "}\n",
        "\n",
        "# Применение анонимизации ко всем таблицам\n",
        "data_anon <- lapply(data_list, anonymize)\n",
        "lapply(data_anon, head)"
      ],
      "metadata": {
        "colab": {
          "base_uri": "https://localhost:8080/"
        },
        "id": "7jaoI7SG-oQl",
        "outputId": "c8a6db40-c3b9-47f8-926b-b961c3ea3b5e"
      },
      "execution_count": 13,
      "outputs": [
        {
          "output_type": "stream",
          "name": "stdout",
          "text": [
            "[[1]]\n",
            "# A tibble: 6 × 38\n",
            "  Vial.number Patient.number Name      GPHDL1 GPHDL2 GPHDL3 GPHDL4 GPHDL5 GPHDL6\n",
            "        <dbl>          <dbl> <chr>      <dbl>  <dbl>  <dbl>  <dbl>  <dbl>  <dbl>\n",
            "1           1             50 anon_name   0.38   1.78   0.14   0.05   0.73   2.9 \n",
            "2           3             52 anon_name   0.43   1.3    0.23   0.05   0.59   2.62\n",
            "3           4             53 anon_name   0.41   3.86   0.31   0.1    0.96   3.19\n",
            "4           5             54 anon_name   0.5    1.79   0.23   0.06   0.77   2.96\n",
            "5           6             55 anon_name   0.4    3.69   0.17   0.03   0.8    3.04\n",
            "6           7             56 anon_name   0.37   2.96   0.22   0.05   1      3   \n",
            "# ℹ 29 more variables: GPHDL7 <dbl>, GPHDL8 <dbl>, GPHDL9 <dbl>, GPHDL10 <dbl>,\n",
            "#   GPHDL11 <dbl>, GPHDL12 <dbl>, GPHDL13 <dbl>, GPHDL14 <dbl>, GPHDL15 <dbl>,\n",
            "#   GPHDL16 <dbl>, GPHDL17 <dbl>, GPHDL18 <dbl>, GPHDL19 <dbl>, GPHDL20 <dbl>,\n",
            "#   GPHDL21 <dbl>, GPHDL22 <dbl>, sum_auc <dbl>, LB <dbl>, HB <dbl>, G1 <dbl>,\n",
            "#   G2 <dbl>, G3 <dbl>, S0 <dbl>, S1 <dbl>, S2 <dbl>, S3 <dbl>, B <dbl>,\n",
            "#   F <dbl>, HM <dbl>\n",
            "\n",
            "[[2]]\n",
            "# A tibble: 6 × 38\n",
            "  Vial.number Patient.number Name      GPLDL1 GPLDL2 GPLDL3 GPLDL4 GPLDL5 GPLDL6\n",
            "        <dbl>          <dbl> <chr>      <dbl>  <dbl>  <dbl>  <dbl>  <dbl>  <dbl>\n",
            "1           1             50 anon_name   0.4    6.74   0.2    0.02   1.09   3.79\n",
            "2           3             52 anon_name   0.46   7.37   0.39   0.02   1.06   4.55\n",
            "3           4             53 anon_name   0.3    8.23   0.26   0.02   0.88   3.66\n",
            "4           5             54 anon_name   0.47   7.94   0.29   0.02   1.11   3.97\n",
            "5           6             55 anon_name   0.31   9.68   0.18   0.02   0.97   4.5 \n",
            "6           7             56 anon_name   0.3    7.32   0.22   0.02   1.12   4.19\n",
            "# ℹ 29 more variables: GPLDL7 <dbl>, GPLDL8 <dbl>, GPLDL9 <dbl>, GPLDL10 <dbl>,\n",
            "#   GPLDL11 <dbl>, GPLDL12 <dbl>, GPLDL13 <dbl>, GPLDL14 <dbl>, GPLDL15 <dbl>,\n",
            "#   GPLDL16 <dbl>, GPLDL17 <dbl>, GPLDL18 <dbl>, GPLDL19 <dbl>, GPLDL20 <dbl>,\n",
            "#   GPLDL21 <dbl>, GPLDL22 <dbl>, sum_auc <dbl>, LB <dbl>, HB <dbl>, G1 <dbl>,\n",
            "#   G2 <dbl>, G3 <dbl>, S0 <dbl>, S1 <dbl>, S2 <dbl>, S3 <dbl>, B <dbl>,\n",
            "#   F <dbl>, HM <dbl>\n",
            "\n",
            "[[3]]\n",
            "# A tibble: 6 × 49\n",
            "  Vialnumber Patientnumber Sucrose Name      Group Date         Age Plasmavolume\n",
            "       <dbl>         <dbl>   <dbl> <chr>     <dbl> <date>     <dbl>        <dbl>\n",
            "1          1            50       0 anon_name     0 2023-01-14    63          6.5\n",
            "2          2            51       0 anon_name     0 2022-10-09    47          5.5\n",
            "3          3            52       0 anon_name     1 2023-10-24    57          7  \n",
            "4          4            53       0 anon_name     1 2023-07-02    72          5  \n",
            "5          5            54       0 anon_name     1 2022-11-27    57          5  \n",
            "6          6            55       0 anon_name     1 2022-07-12    79          6.2\n",
            "# ℹ 41 more variables: Ht <dbl>, Wt <dbl>, BMI <dbl>, Sys <dbl>, Dia <dbl>,\n",
            "#   PR <dbl>, Sm <dbl>, Dm <dbl>, HT <dbl>, LVH <dbl>, IHD <dbl>, MI <dbl>,\n",
            "#   Str <dbl>, A_C <dbl>, A_H <dbl>, A_D <dbl>, Choi <dbl>, Tgi <dbl>,\n",
            "#   HDLi <dbl>, LDLi <dbl>, Choi_exp <dbl>, Tgi_exp <dbl>, HDLi_exp <dbl>,\n",
            "#   LDLi_exp <dbl>, AI <dbl>, rlatmin <dbl>, rantmin <dbl>, rposmin <dbl>,\n",
            "#   llatmin <dbl>, lantmin <dbl>, lposmin <dbl>, rlatmax <dbl>, rantmax <dbl>,\n",
            "#   rposmax <dbl>, llatmax <dbl>, lantmax <dbl>, lposmax <dbl>, …\n",
            "\n"
          ]
        }
      ]
    },
    {
      "cell_type": "markdown",
      "source": [
        "# 3. Тип исследования.\n",
        "На основе данных, можно предположить, что проводится:\n",
        "\n",
        " Наблюдательное исследование(обсервационное)\n",
        "Пациентам не давали конкретное лечение, а просто измеряли показатели: холестерин, сахар, давление и т.д.\n",
        "\n",
        "У них брали анализы крови и другие данные, и потом сравнивали группы: например, по возрасту, болезням и т.п.\n",
        "\n",
        "Также возможно, что изучается влияние уровня ЛПВП и ЛПНП на здоровье.\n",
        "\n",
        "# 4. Тип выборки и переменные\n",
        "\n",
        "Тип выборки:\n",
        "Похоже, это взрослые пациенты с возможными проблемами с сердцем, сосудами, обменом веществ (например, гипертония, диабет, инфаркт).\n",
        "\n",
        "Все пациенты имеют данные крови и результаты хроматографии (GPHDL и GPLDL — это анализы липидов).\n",
        "\n",
        "# Переменные и их тип:\n",
        "| Переменная    | Что означает                                 | Тип значения           | Шкала измерения              |\n",
        "|---------------|-----------------------------------------------|-------------------------|------------------------------|\n",
        "| Age           | Возраст пациента                              | Число                   | Шкала отношений              |\n",
        "| Name          | Имя пациента                                  | Текст                   | Номинальная                  |\n",
        "| HDLi, LDLi    | Уровни холестерина                            | Число                   | Шкала отношений              |\n",
        "| Group         | Группа пациента (0 или 1)                     | Метка (контроль / больные) | Номинальная              |\n",
        "| HT, MI, Str   | Есть ли болезнь (гипертония, инфаркт, инсульт) | 0 или 1 (нет/да)       | Номинальная                  |\n",
        "| sum_auc       | Сумма под кривой хроматограммы               | Число                   | Шкала отношений              |\n",
        "| BMI           | Индекс массы тела                             | Число                   | Шкала отношений              |\n",
        "\n",
        "\n",
        "# 5. Эмпирические гипотезы (что можно проверить)\n",
        "\n",
        "\n",
        "**Гипотеза 1:**\n",
        "У пациентов с гипертонией (HT = 1) выше уровень холестерина LDLi, чем у тех, у кого гипертонии нет (HT = 0).\n",
        "\n",
        "Почему: гипертония часто идёт вместе с высоким \"плохим\" холестерином.\n",
        "\n",
        "**Гипотеза 2:**\n",
        "Уровень HDLi (полезного холестерина) снижается с возрастом.\n",
        "\n",
        "Проверяется с помощью корреляции: как Age связан с HDLi.\n",
        "\n",
        "**Гипотеза 3:**\n",
        "Пациенты, у которых был инфаркт (MI = 1), имеют ниже sum_auc по ЛПВП-хроматограмме, чем те, у кого не было инфаркта.\n",
        "\n",
        "Возможно, у них меньше защитных фракций HDL.\n"
      ],
      "metadata": {
        "id": "aOI4g9ZhH8_8"
      }
    },
    {
      "cell_type": "code",
      "source": [],
      "metadata": {
        "id": "4GGMPfgREUre"
      },
      "execution_count": null,
      "outputs": []
    }
  ]
}