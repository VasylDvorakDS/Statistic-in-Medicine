{
  "nbformat": 4,
  "nbformat_minor": 0,
  "metadata": {
    "colab": {
      "provenance": []
    },
    "kernelspec": {
      "name": "python3",
      "display_name": "Python 3"
    },
    "language_info": {
      "name": "python"
    }
  },
  "cells": [
    {
      "cell_type": "markdown",
      "source": [
        "# Анализ клинических данных пациентов и хроматограмм\n",
        "\n",
        "Это задание выполнено на языке **R** в среде **Google Colab**.\n",
        "\n",
        "**Что сделано:**\n",
        "1. Загрузка и чтение данных\n",
        "2. Анонимизация персональной информации\n",
        "3. Предположение о типе исследования\n",
        "4. Анализ переменных и их шкал\n",
        "5. Предположение эмпирических гипотез\n"
      ],
      "metadata": {
        "id": "IupI-f6gEg7x"
      }
    },
    {
      "cell_type": "code",
      "execution_count": 1,
      "metadata": {
        "id": "yGn52_fI6OHr"
      },
      "outputs": [],
      "source": [
        "%load_ext rpy2.ipython"
      ]
    },
    {
      "cell_type": "code",
      "source": [
        "%%R\n",
        "install.packages(\"readr\", repos='http://cran.us.r-project.org')\n",
        "install.packages(\"dplyr\", repos='http://cran.us.r-project.org')\n",
        "install.packages(\"ggplot2\", repos='http://cran.us.r-project.org')\n",
        "install.packages(\"tidyr\", repos='http://cran.us.r-project.org')\n",
        "install.packages(\"gridExtra\", repos=\"http://cran.us.r-project.org\")\n",
        "install.packages(\"tidyverse\", repos='http://cran.us.r-project.org')\n",
        "\n",
        "# Загрузка библиотек\n",
        "library(readr)\n",
        "library(dplyr)\n",
        "library(ggplot2)\n",
        "library(tidyr)\n",
        "library(gridExtra)\n",
        "library(tidyverse)\n"
      ],
      "metadata": {
        "colab": {
          "base_uri": "https://localhost:8080/",
          "height": 1000
        },
        "collapsed": true,
        "id": "8cD3-er-8if4",
        "outputId": "ea637d97-67fe-4549-b3a1-d172c6e2bc8f"
      },
      "execution_count": 2,
      "outputs": [
        {
          "output_type": "stream",
          "name": "stdout",
          "text": [
            "── Attaching core tidyverse packages ──────────────────────── tidyverse 2.0.0 ──\n",
            "✔ forcats   1.0.0     ✔ stringr   1.5.1\n",
            "✔ lubridate 1.9.4     ✔ tibble    3.2.1\n",
            "✔ purrr     1.0.4     \n",
            "── Conflicts ────────────────────────────────────────── tidyverse_conflicts() ──\n",
            "✖ gridExtra::combine() masks dplyr::combine()\n",
            "✖ dplyr::filter()      masks stats::filter()\n",
            "✖ dplyr::lag()         masks stats::lag()\n",
            "ℹ Use the conflicted package (<http://conflicted.r-lib.org/>) to force all conflicts to become errors\n"
          ]
        },
        {
          "output_type": "display_data",
          "data": {
            "text/plain": [
              "Installing package into ‘/usr/local/lib/R/site-library’\n",
              "(as ‘lib’ is unspecified)\n",
              "trying URL 'http://cran.us.r-project.org/src/contrib/readr_2.1.5.tar.gz'\n",
              "Content type 'application/x-gzip' length 298065 bytes (291 KB)\n",
              "==================================================\n",
              "downloaded 291 KB\n",
              "\n",
              "\n",
              "The downloaded source packages are in\n",
              "\t‘/tmp/RtmpuxMApR/downloaded_packages’\n",
              "Installing package into ‘/usr/local/lib/R/site-library’\n",
              "(as ‘lib’ is unspecified)\n",
              "trying URL 'http://cran.us.r-project.org/src/contrib/dplyr_1.1.4.tar.gz'\n",
              "Content type 'application/x-gzip' length 1207521 bytes (1.2 MB)\n",
              "==================================================\n",
              "downloaded 1.2 MB\n",
              "\n",
              "\n",
              "The downloaded source packages are in\n",
              "\t‘/tmp/RtmpuxMApR/downloaded_packages’\n",
              "Installing package into ‘/usr/local/lib/R/site-library’\n",
              "(as ‘lib’ is unspecified)\n",
              "trying URL 'http://cran.us.r-project.org/src/contrib/ggplot2_3.5.2.tar.gz'\n",
              "Content type 'application/x-gzip' length 3580451 bytes (3.4 MB)\n",
              "==================================================\n",
              "downloaded 3.4 MB\n",
              "\n",
              "\n",
              "The downloaded source packages are in\n",
              "\t‘/tmp/RtmpuxMApR/downloaded_packages’\n",
              "Installing package into ‘/usr/local/lib/R/site-library’\n",
              "(as ‘lib’ is unspecified)\n",
              "trying URL 'http://cran.us.r-project.org/src/contrib/tidyr_1.3.1.tar.gz'\n",
              "Content type 'application/x-gzip' length 809058 bytes (790 KB)\n",
              "==================================================\n",
              "downloaded 790 KB\n",
              "\n",
              "\n",
              "The downloaded source packages are in\n",
              "\t‘/tmp/RtmpuxMApR/downloaded_packages’\n",
              "Installing package into ‘/usr/local/lib/R/site-library’\n",
              "(as ‘lib’ is unspecified)\n",
              "trying URL 'http://cran.us.r-project.org/src/contrib/gridExtra_2.3.tar.gz'\n",
              "Content type 'application/x-gzip' length 1062844 bytes (1.0 MB)\n",
              "==================================================\n",
              "downloaded 1.0 MB\n",
              "\n",
              "\n",
              "The downloaded source packages are in\n",
              "\t‘/tmp/RtmpuxMApR/downloaded_packages’\n",
              "Installing package into ‘/usr/local/lib/R/site-library’\n",
              "(as ‘lib’ is unspecified)\n",
              "trying URL 'http://cran.us.r-project.org/src/contrib/tidyverse_2.0.0.tar.gz'\n",
              "Content type 'application/x-gzip' length 704618 bytes (688 KB)\n",
              "==================================================\n",
              "downloaded 688 KB\n",
              "\n",
              "\n",
              "The downloaded source packages are in\n",
              "\t‘/tmp/RtmpuxMApR/downloaded_packages’\n",
              "\n",
              "Attaching package: ‘dplyr’\n",
              "\n",
              "The following objects are masked from ‘package:stats’:\n",
              "\n",
              "    filter, lag\n",
              "\n",
              "The following objects are masked from ‘package:base’:\n",
              "\n",
              "    intersect, setdiff, setequal, union\n",
              "\n",
              "\n",
              "Attaching package: ‘gridExtra’\n",
              "\n",
              "The following object is masked from ‘package:dplyr’:\n",
              "\n",
              "    combine\n",
              "\n"
            ]
          },
          "metadata": {}
        }
      ]
    },
    {
      "cell_type": "code",
      "source": [
        "%%R\n",
        "# Загрузка и распаковка ZIP-файла\n",
        "unzip(\"test_data.zip\", exdir = \"test_data\")\n",
        "files<-list.files(\"test_data\", full.names=TRUE)\n",
        "# Чтение всех TSV-файлов в список\n",
        "data_list<-lapply(files, read_tsv)\n",
        "# Просмотр первых строк каждого файла\n",
        "lapply(data_list, head)\n"
      ],
      "metadata": {
        "colab": {
          "base_uri": "https://localhost:8080/"
        },
        "id": "7wIzDl447Fkm",
        "outputId": "87be8499-5d63-4a48-e2e9-80e2b721a4c7"
      },
      "execution_count": 3,
      "outputs": [
        {
          "output_type": "stream",
          "name": "stdout",
          "text": [
            "Rows: 27 Columns: 38\n",
            "── Column specification ────────────────────────────────────────────────────────\n",
            "Delimiter: \"\\t\"\n",
            "chr  (1): Name\n",
            "dbl (37): Vial.number, Patient.number, GPHDL1, GPHDL2, GPHDL3, GPHDL4, GPHDL...\n",
            "\n",
            "ℹ Use `spec()` to retrieve the full column specification for this data.\n",
            "ℹ Specify the column types or set `show_col_types = FALSE` to quiet this message.\n",
            "Rows: 29 Columns: 38\n",
            "── Column specification ────────────────────────────────────────────────────────\n",
            "Delimiter: \"\\t\"\n",
            "chr  (1): Name\n",
            "dbl (37): Vial.number, Patient.number, GPLDL1, GPLDL2, GPLDL3, GPLDL4, GPLDL...\n",
            "\n",
            "ℹ Use `spec()` to retrieve the full column specification for this data.\n",
            "ℹ Specify the column types or set `show_col_types = FALSE` to quiet this message.\n",
            "Rows: 38 Columns: 49\n",
            "── Column specification ────────────────────────────────────────────────────────\n",
            "Delimiter: \"\\t\"\n",
            "chr   (2): Name, comorbidities\n",
            "dbl  (46): Vialnumber, Patientnumber, Sucrose, Group, Age, Plasmavolume, Ht,...\n",
            "date  (1): Date\n",
            "\n",
            "ℹ Use `spec()` to retrieve the full column specification for this data.\n",
            "ℹ Specify the column types or set `show_col_types = FALSE` to quiet this message.\n",
            "[[1]]\n",
            "# A tibble: 6 × 38\n",
            "  Vial.number Patient.number Name  GPHDL1 GPHDL2 GPHDL3 GPHDL4 GPHDL5 GPHDL6\n",
            "        <dbl>          <dbl> <chr>  <dbl>  <dbl>  <dbl>  <dbl>  <dbl>  <dbl>\n",
            "1           1             50 HDL     0.38   1.78   0.14   0.05   0.73   2.9 \n",
            "2           3             52 HDL     0.43   1.3    0.23   0.05   0.59   2.62\n",
            "3           4             53 HDL     0.41   3.86   0.31   0.1    0.96   3.19\n",
            "4           5             54 HDL     0.5    1.79   0.23   0.06   0.77   2.96\n",
            "5           6             55 HDL     0.4    3.69   0.17   0.03   0.8    3.04\n",
            "6           7             56 HDL     0.37   2.96   0.22   0.05   1      3   \n",
            "# ℹ 29 more variables: GPHDL7 <dbl>, GPHDL8 <dbl>, GPHDL9 <dbl>, GPHDL10 <dbl>,\n",
            "#   GPHDL11 <dbl>, GPHDL12 <dbl>, GPHDL13 <dbl>, GPHDL14 <dbl>, GPHDL15 <dbl>,\n",
            "#   GPHDL16 <dbl>, GPHDL17 <dbl>, GPHDL18 <dbl>, GPHDL19 <dbl>, GPHDL20 <dbl>,\n",
            "#   GPHDL21 <dbl>, GPHDL22 <dbl>, sum_auc <dbl>, LB <dbl>, HB <dbl>, G1 <dbl>,\n",
            "#   G2 <dbl>, G3 <dbl>, S0 <dbl>, S1 <dbl>, S2 <dbl>, S3 <dbl>, B <dbl>,\n",
            "#   F <dbl>, HM <dbl>\n",
            "\n",
            "[[2]]\n",
            "# A tibble: 6 × 38\n",
            "  Vial.number Patient.number Name  GPLDL1 GPLDL2 GPLDL3 GPLDL4 GPLDL5 GPLDL6\n",
            "        <dbl>          <dbl> <chr>  <dbl>  <dbl>  <dbl>  <dbl>  <dbl>  <dbl>\n",
            "1           1             50 LDL     0.4    6.74   0.2    0.02   1.09   3.79\n",
            "2           3             52 LDL     0.46   7.37   0.39   0.02   1.06   4.55\n",
            "3           4             53 LDL     0.3    8.23   0.26   0.02   0.88   3.66\n",
            "4           5             54 LDL     0.47   7.94   0.29   0.02   1.11   3.97\n",
            "5           6             55 LDL     0.31   9.68   0.18   0.02   0.97   4.5 \n",
            "6           7             56 LDL     0.3    7.32   0.22   0.02   1.12   4.19\n",
            "# ℹ 29 more variables: GPLDL7 <dbl>, GPLDL8 <dbl>, GPLDL9 <dbl>, GPLDL10 <dbl>,\n",
            "#   GPLDL11 <dbl>, GPLDL12 <dbl>, GPLDL13 <dbl>, GPLDL14 <dbl>, GPLDL15 <dbl>,\n",
            "#   GPLDL16 <dbl>, GPLDL17 <dbl>, GPLDL18 <dbl>, GPLDL19 <dbl>, GPLDL20 <dbl>,\n",
            "#   GPLDL21 <dbl>, GPLDL22 <dbl>, sum_auc <dbl>, LB <dbl>, HB <dbl>, G1 <dbl>,\n",
            "#   G2 <dbl>, G3 <dbl>, S0 <dbl>, S1 <dbl>, S2 <dbl>, S3 <dbl>, B <dbl>,\n",
            "#   F <dbl>, HM <dbl>\n",
            "\n",
            "[[3]]\n",
            "# A tibble: 6 × 49\n",
            "  Vialnumber Patientnumber Sucrose Name      Group Date         Age Plasmavolume\n",
            "       <dbl>         <dbl>   <dbl> <chr>     <dbl> <date>     <dbl>        <dbl>\n",
            "1          1            50       0 Begaye, …     0 2023-01-14    63          6.5\n",
            "2          2            51       0 Sweetwat…     0 2022-10-09    47          5.5\n",
            "3          3            52       0 Figurell…     1 2023-10-24    57          7  \n",
            "4          4            53       0 Pamphill…     1 2023-07-02    72          5  \n",
            "5          5            54       0 Morgan, …     1 2022-11-27    57          5  \n",
            "6          6            55       0 Abdul-Am…     1 2022-07-12    79          6.2\n",
            "# ℹ 41 more variables: Ht <dbl>, Wt <dbl>, BMI <dbl>, Sys <dbl>, Dia <dbl>,\n",
            "#   PR <dbl>, Sm <dbl>, Dm <dbl>, HT <dbl>, LVH <dbl>, IHD <dbl>, MI <dbl>,\n",
            "#   Str <dbl>, A_C <dbl>, A_H <dbl>, A_D <dbl>, Choi <dbl>, Tgi <dbl>,\n",
            "#   HDLi <dbl>, LDLi <dbl>, Choi_exp <dbl>, Tgi_exp <dbl>, HDLi_exp <dbl>,\n",
            "#   LDLi_exp <dbl>, AI <dbl>, rlatmin <dbl>, rantmin <dbl>, rposmin <dbl>,\n",
            "#   llatmin <dbl>, lantmin <dbl>, lposmin <dbl>, rlatmax <dbl>, rantmax <dbl>,\n",
            "#   rposmax <dbl>, llatmax <dbl>, lantmax <dbl>, lposmax <dbl>, …\n",
            "\n"
          ]
        }
      ]
    },
    {
      "cell_type": "code",
      "source": [
        "%%R\n",
        "# Функция анонимизации данных: замена ID и имён\n",
        "anonymize <- function(df) {\n",
        "  df <- df %>%\n",
        "    mutate(across(contains(\"name\"), ~\"anon_name\")) %>%\n",
        "    mutate(across(contains(\"id\"), ~sample(10000:99999, n(), replace = FALSE)))\n",
        "  return(df)\n",
        "}\n",
        "\n",
        "# Применение анонимизации ко всем таблицам\n",
        "data_anon <- lapply(data_list, anonymize)\n",
        "lapply(data_anon, head)"
      ],
      "metadata": {
        "colab": {
          "base_uri": "https://localhost:8080/"
        },
        "id": "7jaoI7SG-oQl",
        "outputId": "051fd537-f5c9-4fe0-b1fc-3cc5a8c498db"
      },
      "execution_count": 4,
      "outputs": [
        {
          "output_type": "stream",
          "name": "stdout",
          "text": [
            "[[1]]\n",
            "# A tibble: 6 × 38\n",
            "  Vial.number Patient.number Name      GPHDL1 GPHDL2 GPHDL3 GPHDL4 GPHDL5 GPHDL6\n",
            "        <dbl>          <dbl> <chr>      <dbl>  <dbl>  <dbl>  <dbl>  <dbl>  <dbl>\n",
            "1           1             50 anon_name   0.38   1.78   0.14   0.05   0.73   2.9 \n",
            "2           3             52 anon_name   0.43   1.3    0.23   0.05   0.59   2.62\n",
            "3           4             53 anon_name   0.41   3.86   0.31   0.1    0.96   3.19\n",
            "4           5             54 anon_name   0.5    1.79   0.23   0.06   0.77   2.96\n",
            "5           6             55 anon_name   0.4    3.69   0.17   0.03   0.8    3.04\n",
            "6           7             56 anon_name   0.37   2.96   0.22   0.05   1      3   \n",
            "# ℹ 29 more variables: GPHDL7 <dbl>, GPHDL8 <dbl>, GPHDL9 <dbl>, GPHDL10 <dbl>,\n",
            "#   GPHDL11 <dbl>, GPHDL12 <dbl>, GPHDL13 <dbl>, GPHDL14 <dbl>, GPHDL15 <dbl>,\n",
            "#   GPHDL16 <dbl>, GPHDL17 <dbl>, GPHDL18 <dbl>, GPHDL19 <dbl>, GPHDL20 <dbl>,\n",
            "#   GPHDL21 <dbl>, GPHDL22 <dbl>, sum_auc <dbl>, LB <dbl>, HB <dbl>, G1 <dbl>,\n",
            "#   G2 <dbl>, G3 <dbl>, S0 <dbl>, S1 <dbl>, S2 <dbl>, S3 <dbl>, B <dbl>,\n",
            "#   F <dbl>, HM <dbl>\n",
            "\n",
            "[[2]]\n",
            "# A tibble: 6 × 38\n",
            "  Vial.number Patient.number Name      GPLDL1 GPLDL2 GPLDL3 GPLDL4 GPLDL5 GPLDL6\n",
            "        <dbl>          <dbl> <chr>      <dbl>  <dbl>  <dbl>  <dbl>  <dbl>  <dbl>\n",
            "1           1             50 anon_name   0.4    6.74   0.2    0.02   1.09   3.79\n",
            "2           3             52 anon_name   0.46   7.37   0.39   0.02   1.06   4.55\n",
            "3           4             53 anon_name   0.3    8.23   0.26   0.02   0.88   3.66\n",
            "4           5             54 anon_name   0.47   7.94   0.29   0.02   1.11   3.97\n",
            "5           6             55 anon_name   0.31   9.68   0.18   0.02   0.97   4.5 \n",
            "6           7             56 anon_name   0.3    7.32   0.22   0.02   1.12   4.19\n",
            "# ℹ 29 more variables: GPLDL7 <dbl>, GPLDL8 <dbl>, GPLDL9 <dbl>, GPLDL10 <dbl>,\n",
            "#   GPLDL11 <dbl>, GPLDL12 <dbl>, GPLDL13 <dbl>, GPLDL14 <dbl>, GPLDL15 <dbl>,\n",
            "#   GPLDL16 <dbl>, GPLDL17 <dbl>, GPLDL18 <dbl>, GPLDL19 <dbl>, GPLDL20 <dbl>,\n",
            "#   GPLDL21 <dbl>, GPLDL22 <dbl>, sum_auc <dbl>, LB <dbl>, HB <dbl>, G1 <dbl>,\n",
            "#   G2 <dbl>, G3 <dbl>, S0 <dbl>, S1 <dbl>, S2 <dbl>, S3 <dbl>, B <dbl>,\n",
            "#   F <dbl>, HM <dbl>\n",
            "\n",
            "[[3]]\n",
            "# A tibble: 6 × 49\n",
            "  Vialnumber Patientnumber Sucrose Name      Group Date         Age Plasmavolume\n",
            "       <dbl>         <dbl>   <dbl> <chr>     <dbl> <date>     <dbl>        <dbl>\n",
            "1          1            50       0 anon_name     0 2023-01-14    63          6.5\n",
            "2          2            51       0 anon_name     0 2022-10-09    47          5.5\n",
            "3          3            52       0 anon_name     1 2023-10-24    57          7  \n",
            "4          4            53       0 anon_name     1 2023-07-02    72          5  \n",
            "5          5            54       0 anon_name     1 2022-11-27    57          5  \n",
            "6          6            55       0 anon_name     1 2022-07-12    79          6.2\n",
            "# ℹ 41 more variables: Ht <dbl>, Wt <dbl>, BMI <dbl>, Sys <dbl>, Dia <dbl>,\n",
            "#   PR <dbl>, Sm <dbl>, Dm <dbl>, HT <dbl>, LVH <dbl>, IHD <dbl>, MI <dbl>,\n",
            "#   Str <dbl>, A_C <dbl>, A_H <dbl>, A_D <dbl>, Choi <dbl>, Tgi <dbl>,\n",
            "#   HDLi <dbl>, LDLi <dbl>, Choi_exp <dbl>, Tgi_exp <dbl>, HDLi_exp <dbl>,\n",
            "#   LDLi_exp <dbl>, AI <dbl>, rlatmin <dbl>, rantmin <dbl>, rposmin <dbl>,\n",
            "#   llatmin <dbl>, lantmin <dbl>, lposmin <dbl>, rlatmax <dbl>, rantmax <dbl>,\n",
            "#   rposmax <dbl>, llatmax <dbl>, lantmax <dbl>, lposmax <dbl>, …\n",
            "\n"
          ]
        }
      ]
    },
    {
      "cell_type": "markdown",
      "source": [
        "# 3. Тип исследования.\n",
        "На основе данных, можно предположить, что проводится:\n",
        "\n",
        " Наблюдательное исследование(обсервационное)\n",
        "Пациентам не давали конкретное лечение, а просто измеряли показатели: холестерин, сахар, давление и т.д.\n",
        "\n",
        "У них брали анализы крови и другие данные, и потом сравнивали группы: например, по возрасту, болезням и т.п.\n",
        "\n",
        "Также возможно, что изучается влияние уровня ЛПВП и ЛПНП на здоровье.\n",
        "\n",
        "# 4. Тип выборки и переменные\n",
        "\n",
        "Тип выборки:\n",
        "Похоже, это взрослые пациенты с возможными проблемами с сердцем, сосудами, обменом веществ (например, гипертония, диабет, инфаркт).\n",
        "\n",
        "Все пациенты имеют данные крови и результаты хроматографии (GPHDL и GPLDL — это анализы липидов).\n",
        "\n",
        "# Переменные и их тип:\n",
        "| Переменная    | Что означает                                 | Тип значения           | Шкала измерения              |\n",
        "|---------------|-----------------------------------------------|-------------------------|------------------------------|\n",
        "| Age           | Возраст пациента                              | Число                   | Шкала отношений              |\n",
        "| Name          | Имя пациента                                  | Текст                   | Номинальная                  |\n",
        "| HDLi, LDLi    | Уровни холестерина                            | Число                   | Шкала отношений              |\n",
        "| Group         | Группа пациента (0 или 1)                     | Метка (контроль / больные) | Номинальная              |\n",
        "| HT, MI, Str   | Есть ли болезнь (гипертония, инфаркт, инсульт) | 0 или 1 (нет/да)       | Номинальная                  |\n",
        "| sum_auc       | Сумма под кривой хроматограммы               | Число                   | Шкала отношений              |\n",
        "| BMI           | Индекс массы тела                             | Число                   | Шкала отношений              |\n",
        "\n",
        "\n",
        "# 5. Эмпирические гипотезы (что можно проверить)\n",
        "\n",
        "\n",
        "**Гипотеза 1:**\n",
        "У пациентов с гипертонией (HT = 1) выше уровень холестерина LDLi, чем у тех, у кого гипертонии нет (HT = 0).\n",
        "\n",
        "Почему: гипертония часто идёт вместе с высоким \"плохим\" холестерином.\n",
        "\n",
        "**Гипотеза 2:**\n",
        "Уровень HDLi (полезного холестерина) снижается с возрастом.\n",
        "\n",
        "Проверяется с помощью корреляции: как Age связан с HDLi.\n",
        "\n",
        "**Гипотеза 3:**\n",
        "Пациенты, у которых был инфаркт (MI = 1), имеют ниже sum_auc по ЛПВП-хроматограмме, чем те, у кого не было инфаркта.\n",
        "\n",
        "Возможно, у них меньше защитных фракций HDL.\n"
      ],
      "metadata": {
        "id": "aOI4g9ZhH8_8"
      }
    },
    {
      "cell_type": "markdown",
      "source": [
        "#Постройте гистограммы распределения"
      ],
      "metadata": {
        "id": "wMBgNAutKrnx"
      }
    },
    {
      "cell_type": "code",
      "source": [
        "%%R\n",
        "\n",
        "df <- data_anon[[2]]\n",
        "\n",
        "vars_to_plot <- c(\"GPLDL1\", \"GPLDL2\", \"GPLDL3\", \"GPLDL4\", \"GPLDL5\", \"GPLDL6\")\n",
        "\n",
        "plot_list <- list()\n",
        "\n",
        "for (var in vars_to_plot) {\n",
        "  if (var %in% colnames(df)) {\n",
        "    plot_list[[var]] <- ggplot(df, aes_string(x = var)) +\n",
        "      geom_histogram(bins = 10, fill = \"skyblue\", color = \"black\") +\n",
        "      labs(title = paste(\"Гистограмма переменной:\", var),\n",
        "           x = var, y = \"Частота\") +\n",
        "      theme_minimal()\n",
        "  } else {\n",
        "    cat(paste(\"Переменная\", var, \"не найдена в таблице\\n\"))\n",
        "  }\n",
        "}\n",
        "\n",
        "# Отобразим все графики по 2 в ряд\n",
        "do.call(grid.arrange, c(plot_list, ncol = 2))\n"
      ],
      "metadata": {
        "id": "4GGMPfgREUre",
        "colab": {
          "base_uri": "https://localhost:8080/",
          "height": 618
        },
        "outputId": "dba7de15-0066-4cb1-fdc1-c7ab897038df"
      },
      "execution_count": 5,
      "outputs": [
        {
          "output_type": "display_data",
          "data": {
            "text/plain": [
              "In addition: Warning message:\n",
              "`aes_string()` was deprecated in ggplot2 3.0.0.\n",
              "ℹ Please use tidy evaluation idioms with `aes()`.\n",
              "ℹ See also `vignette(\"ggplot2-in-packages\")` for more information.\n",
              "This warning is displayed once every 8 hours.\n",
              "Call `lifecycle::last_lifecycle_warnings()` to see where this warning was\n",
              "generated. \n"
            ]
          },
          "metadata": {}
        },
        {
          "output_type": "display_data",
          "data": {
            "image/png": "[encoded data removed]",
            "text/plain": [
              "<IPython.core.display.Image object>"
            ]
          },
          "metadata": {}
        }
      ]
    },
    {
      "cell_type": "code",
      "source": [],
      "metadata": {
        "id": "kSU_rKmmrdfU"
      },
      "execution_count": 5,
      "outputs": []
    },
    {
      "cell_type": "markdown",
      "source": [
        "#Предполагаемые распределения:\n",
        "\n",
        "| Переменная | Вид гистограммы                                      | Предположительное распределение        |\n",
        "|------------|-------------------------------------------------------|----------------------------------------|\n",
        "| GPLDL1     | Симметричная, колоколообразная                        | Приближенно нормальное                 |\n",
        "| GPLDL2     | Смещено влево (много значений справа)                 | Смещённое (левостороннее)             |\n",
        "| GPLDL3     | Почти симметричная, легкая асимметрия                 | Приближенно нормальное                 |\n",
        "| GPLDL4     | Сильно смещено вправо, высокая плотность слева        | Экспоненциальное / правостороннее      |\n",
        "| GPLDL5     | Почти симметричная, немного сужена по краям           | Нормальное или лог-нормальное          |\n",
        "| GPLDL6     | Симметричная, с выраженным центральным пиком          | Приближенно нормальное                 |\n"
      ],
      "metadata": {
        "id": "8NLTNn_bUv1x"
      }
    },
    {
      "cell_type": "code",
      "source": [
        "%%R\n",
        "summary(data_anon[[2]]$G1)\n"
      ],
      "metadata": {
        "id": "r7NkK1LLUu71",
        "colab": {
          "base_uri": "https://localhost:8080/"
        },
        "outputId": "c325399c-c035-4a0d-d02a-989754cd70c7"
      },
      "execution_count": 6,
      "outputs": [
        {
          "output_type": "stream",
          "name": "stdout",
          "text": [
            "   Min. 1st Qu.  Median    Mean 3rd Qu.    Max. \n",
            "  3.270   4.000   4.390   4.395   4.710   5.280 \n"
          ]
        }
      ]
    },
    {
      "cell_type": "markdown",
      "source": [
        "#Гипотеза 1\n",
        "\n",
        "Пациенты с высоким G1 имеют больший sum_auc\n",
        "Группы\tG1 > median(G1) и G1 ≤ median(G1) (разные люди)\n",
        "Выборки\tНезависимые\n",
        "ЗП (зависимая переменная)\tsum_auc\n",
        "НП (независимая переменная)\tG1 (превышает 0.5 или нет)\n",
        "Тест\tt-тест для независимых выборок (если нормальность есть) или #Mann–Whitney"
      ],
      "metadata": {
        "id": "kg8LAeKCf3nF"
      }
    },
    {
      "cell_type": "code",
      "source": [
        "%%R\n",
        "# Создаём группы\n",
        "df$group_g1 <- ifelse(df$G1 > median(df$G1), 'hight', 'low')\n",
        "boxplot(sum_auc ~ group_g1, data=df, col = c('lightblue', 'skyblue'))"
      ],
      "metadata": {
        "colab": {
          "base_uri": "https://localhost:8080/",
          "height": 497
        },
        "id": "k5sNWHCpgHZY",
        "outputId": "4e0a2024-5acb-442e-f487-6d556623bbf9"
      },
      "execution_count": 7,
      "outputs": [
        {
          "output_type": "display_data",
          "data": {
            "image/png": "[encoded data removed]",
            "text/plain": [
              "<IPython.core.display.Image object>"
            ]
          },
          "metadata": {}
        }
      ]
    },
    {
      "cell_type": "code",
      "source": [
        "%%R\n",
        "# Проверим нормальность распределения sum_auc\n",
        "print(shapiro.test(df$sum_auc))  # если < 0.05 → распределение не нормальное"
      ],
      "metadata": {
        "colab": {
          "base_uri": "https://localhost:8080/"
        },
        "id": "kzUQYuXBhIEt",
        "outputId": "5eb91626-41b0-4419-9036-6599dbea4ca3"
      },
      "execution_count": 8,
      "outputs": [
        {
          "output_type": "stream",
          "name": "stdout",
          "text": [
            "\n",
            "\tShapiro-Wilk normality test\n",
            "\n",
            "data:  df$sum_auc\n",
            "W = 0.92213, p-value = 0.03453\n",
            "\n"
          ]
        }
      ]
    },
    {
      "cell_type": "code",
      "source": [
        "#Вывод: распределение sum_auc  НЕ нормальное\n",
        "# Сравним группы, непараметрический тест:\n",
        "%%R\n",
        "wilcox.test(sum_auc ~ group_g1, data=df)"
      ],
      "metadata": {
        "colab": {
          "base_uri": "https://localhost:8080/",
          "height": 191
        },
        "id": "Yddqe8mTiA54",
        "outputId": "091e92a7-efbb-4030-cc4d-31aaf945713d"
      },
      "execution_count": 9,
      "outputs": [
        {
          "output_type": "stream",
          "name": "stdout",
          "text": [
            "\n",
            "\tWilcoxon rank sum test with continuity correction\n",
            "\n",
            "data:  sum_auc by group_g1\n",
            "W = 55, p-value = 0.02699\n",
            "alternative hypothesis: true location shift is not equal to 0\n",
            "\n"
          ]
        },
        {
          "output_type": "display_data",
          "data": {
            "text/plain": [
              "In addition: Warning message:\n",
              "In wilcox.test.default(x = DATA[[1L]], y = DATA[[2L]], ...) :\n",
              "  cannot compute exact p-value with ties\n"
            ]
          },
          "metadata": {}
        }
      ]
    },
    {
      "cell_type": "markdown",
      "source": [
        " p-value < 0.05, значит группы различаются статистически значимо\n",
        "\n",
        "Уверенно можно сказать, что уровень sum_auc реально отличается у двух групп с G1 > median(G1) и G1 ≤ median(G1).\n"
      ],
      "metadata": {
        "id": "Y-AR3Bcpi_jO"
      }
    },
    {
      "cell_type": "markdown",
      "source": [
        "# Гипотеза 2\n",
        "\n",
        "Значения GPLDL2 и GPLDL6 различаются у одного пациента\n",
        "Группы\tте же люди, 2 фракции.\n",
        "Выборки\tЗависимые\n",
        "ЗП\tGPLDL2 и GPLDL6\n",
        "НП\tнет (это парные наблюдения)\n",
        "Тест\tt-тест для зависимых выборок (или Wilcoxon, если не нормальные)"
      ],
      "metadata": {
        "id": "Dl2hU2VJj4sj"
      }
    },
    {
      "cell_type": "code",
      "source": [
        "%%R\n",
        "# Проверим нормальность разницы\n",
        "print(shapiro.test(df$GPLDL2-df$GPLDL6))  # если < 0.05 → распределение не нормальное"
      ],
      "metadata": {
        "colab": {
          "base_uri": "https://localhost:8080/"
        },
        "id": "tehzXhYsj3kv",
        "outputId": "150de955-d694-4272-bccb-84ba08ce6870"
      },
      "execution_count": 10,
      "outputs": [
        {
          "output_type": "stream",
          "name": "stdout",
          "text": [
            "\n",
            "\tShapiro-Wilk normality test\n",
            "\n",
            "data:  df$GPLDL2 - df$GPLDL6\n",
            "W = 0.98401, p-value = 0.9263\n",
            "\n"
          ]
        }
      ]
    },
    {
      "cell_type": "code",
      "source": [
        "#pvalue>0.05\tРазность похожа на нормальное распределение\n",
        "#Применяем парный t-тест, если разности нормально распределены\n",
        "# Парный тест\n",
        "%%R\n",
        "t.test(df$GPLDL2, df$GPLDL6, paired=TRUE)"
      ],
      "metadata": {
        "colab": {
          "base_uri": "https://localhost:8080/"
        },
        "id": "GTtzySPsm3X4",
        "outputId": "a502da13-22cf-4c3a-b4fd-367358898033"
      },
      "execution_count": 11,
      "outputs": [
        {
          "output_type": "stream",
          "name": "stdout",
          "text": [
            "\n",
            "\tPaired t-test\n",
            "\n",
            "data:  df$GPLDL2 and df$GPLDL6\n",
            "t = 30.675, df = 28, p-value < 2.2e-16\n",
            "alternative hypothesis: true mean difference is not equal to 0\n",
            "95 percent confidence interval:\n",
            " 3.491220 3.990849\n",
            "sample estimates:\n",
            "mean difference \n",
            "       3.741034 \n",
            "\n"
          ]
        }
      ]
    },
    {
      "cell_type": "markdown",
      "source": [
        "Так как p-value меньше 0.05,\n",
        "\n",
        "Это говорит о том, что различие между двумя сравниваемыми группами статистически значимо.\n",
        "\n",
        "Можно отвергнуть нулевую гипотезу\n",
        ": разницы между фракциями есть, и она не случайна."
      ],
      "metadata": {
        "id": "JQvhBkH8oSt2"
      }
    },
    {
      "cell_type": "code",
      "source": [
        "%%R\n",
        "# Создаём три группы\n",
        "interval <- (max(df$G1)-min(df$G1))/3\n",
        "df$group_g3 <- ifelse(df$G1 > interval, ifelse(df$G1 > interval*2, 'hight', 'middle'), 'low')\n",
        "boxplot(sum_auc ~ group_g3, data=df, col = c('lightblue', 'skyblue', 'blue'))"
      ],
      "metadata": {
        "id": "8RkB6ey6oZSt",
        "colab": {
          "base_uri": "https://localhost:8080/",
          "height": 497
        },
        "outputId": "bcd03c80-5ee6-4cc9-b2cc-80dd52c309cc"
      },
      "execution_count": 12,
      "outputs": [
        {
          "output_type": "display_data",
          "data": {
            "image/png": "[encoded data removed]",
            "text/plain": [
              "<IPython.core.display.Image object>"
            ]
          },
          "metadata": {}
        }
      ]
    },
    {
      "cell_type": "code",
      "source": [
        "%%R\n",
        "\n",
        "install.packages(\"multcomp\", repos=\"http://cran.us.r-project.org\")\n",
        "\n",
        "library(multcomp)"
      ],
      "metadata": {
        "colab": {
          "base_uri": "https://localhost:8080/",
          "height": 538
        },
        "id": "7afkWE0SvGCs",
        "outputId": "110cbf26-6ad1-4612-bec6-1dd381f1a904"
      },
      "execution_count": 13,
      "outputs": [
        {
          "output_type": "display_data",
          "data": {
            "text/plain": [
              "Installing package into ‘/usr/local/lib/R/site-library’\n",
              "(as ‘lib’ is unspecified)\n",
              "also installing the dependencies ‘zoo’, ‘mvtnorm’, ‘TH.data’, ‘sandwich’\n",
              "\n",
              "trying URL 'http://cran.us.r-project.org/src/contrib/zoo_1.8-14.tar.gz'\n",
              "trying URL 'http://cran.us.r-project.org/src/contrib/mvtnorm_1.3-3.tar.gz'\n",
              "trying URL 'http://cran.us.r-project.org/src/contrib/TH.data_1.1-3.tar.gz'\n",
              "trying URL 'http://cran.us.r-project.org/src/contrib/sandwich_3.1-1.tar.gz'\n",
              "trying URL 'http://cran.us.r-project.org/src/contrib/multcomp_1.4-28.tar.gz'\n",
              "\n",
              "The downloaded source packages are in\n",
              "\t‘/tmp/RtmpuxMApR/downloaded_packages’\n",
              "Loading required package: mvtnorm\n",
              "Loading required package: survival\n",
              "Loading required package: TH.data\n",
              "Loading required package: MASS\n",
              "\n",
              "Attaching package: ‘MASS’\n",
              "\n",
              "The following object is masked from ‘package:dplyr’:\n",
              "\n",
              "    select\n",
              "\n",
              "\n",
              "Attaching package: ‘TH.data’\n",
              "\n",
              "The following object is masked from ‘package:MASS’:\n",
              "\n",
              "    geyser\n",
              "\n"
            ]
          },
          "metadata": {}
        }
      ]
    },
    {
      "cell_type": "markdown",
      "source": [],
      "metadata": {
        "id": "ImN7K6jf_uSs"
      }
    },
    {
      "cell_type": "markdown",
      "source": [],
      "metadata": {
        "id": "FrMRPvor_uV0"
      }
    },
    {
      "cell_type": "markdown",
      "source": [],
      "metadata": {
        "id": "UpZnqz4O_uYn"
      }
    },
    {
      "cell_type": "markdown",
      "source": [
        "#**Задание 4**\n",
        "\n",
        "-Сформулируйте несколько гипотез для трех групп, которые можно проверить на имеющихся данных. Укажите, зависимые или независимые выборки, ЗП, НП.\n",
        "\n",
        "-Выберите подходящий тест и проверьте ваши предположения."
      ],
      "metadata": {
        "id": "ngxada_6-_E_"
      }
    },
    {
      "cell_type": "code",
      "source": [
        "%%R\n",
        "# Загружаем таблицы\n",
        "gphdl <- data_anon[[1]]\n",
        "gpldl <- data_anon[[2]]\n",
        "meta <- data_anon[[3]]\n",
        "# Объединяем с клиническими данными\n",
        "merged_hdl <- merge(gphdl, meta, by.x = \"Patient.number\", by.y = \"Patientnumber\")\n",
        "merged_ldl <- merge(gpldl, meta, by.x = \"Patient.number\", by.y = \"Patientnumber\")"
      ],
      "metadata": {
        "id": "iYnJps1mvVuY"
      },
      "execution_count": 14,
      "outputs": []
    },
    {
      "cell_type": "markdown",
      "source": [
        "# Гипотеза 1:\n",
        "Средние значения sum_auc (GPHDL) отличаются между тремя подгруппами переменной G1.\n",
        "\n",
        "Зависимая переменная (ЗП): sum_auc\n",
        "\n",
        "Независимая переменная (НП): G1\n",
        "\n",
        "Выборки: независимые\n",
        "\n",
        "Тест: однофакторный ANOVA (aov) или Краскел–Уоллис (kruskal.test)"
      ],
      "metadata": {
        "id": "kegqq5vhEF_x"
      }
    },
    {
      "cell_type": "code",
      "source": [
        "%%R\n",
        "# Проверка нормальности остатков (для ANOVA)\n",
        "shapiro.test(resid(aov(sum_auc ~ as.factor(G1), data = merged_hdl)))\n"
      ],
      "metadata": {
        "colab": {
          "base_uri": "https://localhost:8080/"
        },
        "id": "iputO1HxDe4X",
        "outputId": "eeb804ea-ee7c-4265-afe4-234b83581aef"
      },
      "execution_count": 15,
      "outputs": [
        {
          "output_type": "stream",
          "name": "stdout",
          "text": [
            "\n",
            "\tShapiro-Wilk normality test\n",
            "\n",
            "data:  resid(aov(sum_auc ~ as.factor(G1), data = merged_hdl))\n",
            "W = 0.80684, p-value = 2.786e-05\n",
            "\n"
          ]
        }
      ]
    },
    {
      "cell_type": "markdown",
      "source": [
        "p < 0.05, распределения не нормальные"
      ],
      "metadata": {
        "id": "Jsvl89jyHLdw"
      }
    },
    {
      "cell_type": "code",
      "source": [
        "%%R\n",
        "#нормальность не выполнена — Kruskal-Wallis test\n",
        "kruskal.test(sum_auc ~ as.factor(G1), data = merged_hdl)"
      ],
      "metadata": {
        "colab": {
          "base_uri": "https://localhost:8080/"
        },
        "id": "U4mxEs4CHfsT",
        "outputId": "5ee230e9-75df-4a7e-90b5-66d810bbdc0a"
      },
      "execution_count": 16,
      "outputs": [
        {
          "output_type": "stream",
          "name": "stdout",
          "text": [
            "\n",
            "\tKruskal-Wallis rank sum test\n",
            "\n",
            "data:  sum_auc by as.factor(G1)\n",
            "Kruskal-Wallis chi-squared = 34, df = 25, p-value = 0.1079\n",
            "\n"
          ]
        }
      ]
    },
    {
      "cell_type": "markdown",
      "source": [],
      "metadata": {
        "id": "gKrcmn72ITPJ"
      }
    },
    {
      "cell_type": "markdown",
      "source": [
        "p > 0.05, Нет доказательств различий"
      ],
      "metadata": {
        "id": "TlvzQyAZIBgI"
      }
    },
    {
      "cell_type": "markdown",
      "source": [
        "#Гипотеза 2:\n",
        "\n",
        "Средние значения sum_auc (GPLDL) отличаются между тремя группами S1.\n",
        "\n",
        "ЗП: sum_auc\n",
        "\n",
        "НП: S1\n",
        "\n",
        "Выборки: независимые\n",
        "\n",
        "Тест: ANOVA или Краскел–Уоллис"
      ],
      "metadata": {
        "id": "Y0m3ia3lIi4V"
      }
    },
    {
      "cell_type": "code",
      "source": [
        "%%R\n",
        "# Проверка нормальности остатков (для ANOVA)\n",
        "shapiro.test(resid(aov(sum_auc ~ as.factor(S1), data = merged_ldl)))"
      ],
      "metadata": {
        "colab": {
          "base_uri": "https://localhost:8080/"
        },
        "id": "tSHe8j4gF7HH",
        "outputId": "53db149d-4c86-463d-cf7a-6399113f019d"
      },
      "execution_count": 17,
      "outputs": [
        {
          "output_type": "stream",
          "name": "stdout",
          "text": [
            "\n",
            "\tShapiro-Wilk normality test\n",
            "\n",
            "data:  resid(aov(sum_auc ~ as.factor(S1), data = merged_ldl))\n",
            "W = 0.55365, p-value = 1.047e-09\n",
            "\n"
          ]
        }
      ]
    },
    {
      "cell_type": "markdown",
      "source": [
        "p < 0.05, распределения не нормальные"
      ],
      "metadata": {
        "id": "Qdo17ZBfHM-Y"
      }
    },
    {
      "cell_type": "code",
      "source": [
        "%%R\n",
        "#нормальность не выполнена — Kruskal-Wallis test\n",
        "kruskal.test(sum_auc ~ as.factor(S1), data = merged_ldl)"
      ],
      "metadata": {
        "colab": {
          "base_uri": "https://localhost:8080/"
        },
        "id": "q25aWo7QHw2f",
        "outputId": "3ce39408-b79c-4fb2-906a-a89eafe70d53"
      },
      "execution_count": 18,
      "outputs": [
        {
          "output_type": "stream",
          "name": "stdout",
          "text": [
            "\n",
            "\tKruskal-Wallis rank sum test\n",
            "\n",
            "data:  sum_auc by as.factor(S1)\n",
            "Kruskal-Wallis chi-squared = 37.221, df = 26, p-value = 0.0714\n",
            "\n"
          ]
        }
      ]
    },
    {
      "cell_type": "markdown",
      "source": [
        "p > 0.05, Нет доказательств различий"
      ],
      "metadata": {
        "id": "Eh9Yhl12IGhJ"
      }
    },
    {
      "cell_type": "markdown",
      "source": [
        " # Гипотеза 3:\n",
        "\n",
        "Средние значения sum_auc (GPHDL) различаются между уровнями HM (например, 0, 1, 2).\n",
        "\n",
        "ЗП: sum_auc\n",
        "\n",
        "НП: HM\n",
        "\n",
        "Выборки: независимые\n",
        "\n",
        "Тест: ANOVA или Краскел–Уоллис"
      ],
      "metadata": {
        "id": "iMH795lZIu-a"
      }
    },
    {
      "cell_type": "code",
      "source": [
        "%%R\n",
        "# Проверка нормальности остатков (для ANOVA)\n",
        "shapiro.test(resid(aov(sum_auc ~ as.factor(HM), data = merged_hdl)))"
      ],
      "metadata": {
        "colab": {
          "base_uri": "https://localhost:8080/"
        },
        "id": "ZRIJBpGtG0tf",
        "outputId": "7be59f2f-7d9c-4ce7-eca4-865410b83740"
      },
      "execution_count": 19,
      "outputs": [
        {
          "output_type": "stream",
          "name": "stdout",
          "text": [
            "\n",
            "\tShapiro-Wilk normality test\n",
            "\n",
            "data:  resid(aov(sum_auc ~ as.factor(HM), data = merged_hdl))\n",
            "W = 0.82507, p-value = 6.583e-05\n",
            "\n"
          ]
        }
      ]
    },
    {
      "cell_type": "markdown",
      "source": [
        "p < 0.05, распределения не нормальные"
      ],
      "metadata": {
        "id": "1DZN_fQBFiHQ"
      }
    },
    {
      "cell_type": "code",
      "source": [
        "%%R\n",
        "#нормальность не выполнена — Kruskal-Wallis test\n",
        "kruskal.test(sum_auc ~ as.factor(HM), data = merged_hdl)"
      ],
      "metadata": {
        "colab": {
          "base_uri": "https://localhost:8080/"
        },
        "id": "IucIzzTKF1NL",
        "outputId": "86731b85-3ffa-499a-fbca-1955b5ff05c8"
      },
      "execution_count": 20,
      "outputs": [
        {
          "output_type": "stream",
          "name": "stdout",
          "text": [
            "\n",
            "\tKruskal-Wallis rank sum test\n",
            "\n",
            "data:  sum_auc by as.factor(HM)\n",
            "Kruskal-Wallis chi-squared = 34, df = 26, p-value = 0.135\n",
            "\n"
          ]
        }
      ]
    },
    {
      "cell_type": "markdown",
      "source": [
        "p > 0.05, Нет доказательств различий"
      ],
      "metadata": {
        "id": "0wOoexClGvtY"
      }
    },
    {
      "cell_type": "markdown",
      "source": [
        "#1. Бутстрап-анализ (Bootstrap CI)"
      ],
      "metadata": {
        "id": "QVSdEQFUJIpm"
      }
    },
    {
      "cell_type": "code",
      "source": [
        "%%R\n",
        "set.seed(123)  # для воспроизводимости\n",
        "\n",
        "# Исходные данные\n",
        "x <- df$GPLDL1\n",
        "x <- x[!is.na(x)]  # удалим NA\n",
        "\n",
        "# Бутстрап-функция для среднего\n",
        "boot_means <- replicate(5000, mean(sample(x, replace = TRUE)))\n",
        "\n",
        "# Границы 95% доверительного интервала\n",
        "ci <- quantile(boot_means, c(0.025, 0.975))\n",
        "\n",
        "# Результат\n",
        "cat(\"Бутстрап 95% CI для среднего GPLDL1:\", round(ci[1], 2), \"-\", round(ci[2], 2), \"\\n\")\n"
      ],
      "metadata": {
        "colab": {
          "base_uri": "https://localhost:8080/"
        },
        "id": "-FTPBFCMJHxm",
        "outputId": "f1373c41-ea41-496f-bacb-e3e0e44da18f"
      },
      "execution_count": 25,
      "outputs": [
        {
          "output_type": "stream",
          "name": "stdout",
          "text": [
            "Бутстрап 95% CI для среднего GPLDL1: 0.35 - 0.41 \n"
          ]
        }
      ]
    },
    {
      "cell_type": "markdown",
      "source": [
        " # Премутационного тест в задаче сравнения средних значений между двумя группами по одному из параметров GPHDL2"
      ],
      "metadata": {
        "id": "ya9ExL2LMztD"
      }
    },
    {
      "cell_type": "code",
      "source": [
        "%%R\n",
        "#  Загрузка необходимых пакетов\n",
        "set.seed(123)  # Для воспроизводимости\n",
        "\n",
        "gphdl <- data_anon[[1]]\n",
        "gpldl <- data_anon[[2]]\n",
        "meta <- data_anon[[3]]\n",
        "\n",
        "#  Входные данные\n",
        "# Мы уже объединили таблицы HDL и клинические данные:\n",
        "# Объединение по Patient.number\n",
        "merged <- merge(gphdl, meta, by.x = \"Patient.number\", by.y = \"Patientnumber\")\n",
        "\n",
        "#  Выбираем переменную для теста (GPHDL2)\n",
        "group_0 <- merged$GPHDL2[merged$Group == 0]\n",
        "group_1 <- merged$GPHDL2[merged$Group == 1]\n",
        "\n",
        "# Разница средних в оригинальных данных\n",
        "obs_diff <- mean(group_1) - mean(group_0)\n",
        "\n",
        "# Пермутационный тест\n",
        "n_iter <- 10000\n",
        "diffs <- numeric(n_iter)\n",
        "\n",
        "\n",
        "for (i in 1:n_iter) {\n",
        "  permuted_group <- sample(merged$Group)\n",
        "  perm_group_0 <- merged$GPHDL2[permuted_group == 0]\n",
        "  perm_group_1 <- merged$GPHDL2[permuted_group == 1]\n",
        "  diffs[i] <- mean(perm_group_1) - mean(perm_group_0)\n",
        "}\n",
        "\n",
        "\n",
        "# P-value — доля пермутаций, где разница была больше либо равна наблюдаемой\n",
        "p_val <- mean(abs(diffs) >= abs(obs_diff))\n",
        "\n",
        "#  График\n",
        "hist(diffs, breaks = 40, col = \"lightblue\", main = \"Permutation distribution\",\n",
        "     xlab = \"Difference in means\")\n",
        "\n",
        "abline(v = obs_diff, col = \"red\", lwd = 2)\n",
        "\n",
        "#  Результат\n",
        "cat(\"Оригинальная разница средних:\", obs_diff, \"\\n\")\n",
        "cat(\"P-value:\", p_val, \"\\n\")\n"
      ],
      "metadata": {
        "colab": {
          "base_uri": "https://localhost:8080/",
          "height": 532
        },
        "id": "Y8UzrWziKdpv",
        "outputId": "ece0ad59-614a-4b25-d72c-533871bcfa15"
      },
      "execution_count": 26,
      "outputs": [
        {
          "output_type": "stream",
          "name": "stdout",
          "text": [
            "Оригинальная разница средних: 0.4614141 \n",
            "P-value: 0.036 \n"
          ]
        },
        {
          "output_type": "display_data",
          "data": {
            "image/png": "[encoded data removed]",
            "text/plain": [
              "<IPython.core.display.Image object>"
            ]
          },
          "metadata": {}
        }
      ]
    },
    {
      "cell_type": "markdown",
      "source": [
        "# Метод максимального правдоподобия (MLE) на примере показателя GPHDL2"
      ],
      "metadata": {
        "id": "KMqrxJCfNvQT"
      }
    },
    {
      "cell_type": "code",
      "source": [
        "%%R\n",
        "gpldl <- data_anon[[2]]\n",
        "# Пример: выбираем переменную GPHDL2\n",
        "data <- gpldl$GPLDL3  # можно заменить на ваш вектор\n",
        "\n",
        "# 1. Определим логарифм функции правдоподобия\n",
        "log_likelihood <- function(params, x) {\n",
        "  mu <- params[1]\n",
        "  sigma <- params[2]\n",
        "\n",
        "  # Проверка: дисперсия не может быть отрицательной\n",
        "  if (sigma <= 0) return(Inf)\n",
        "\n",
        "  # Логарифм нормального правдоподобия\n",
        "  -sum(dnorm(x, mean = mu, sd = sigma, log = TRUE))\n",
        "}\n",
        "\n",
        "log_likelihood <- function(params, x){\n",
        "    mu <- params[1]\n",
        "    sigma <- params[2]\n",
        "    if (sigma <=0) return(Inf)\n",
        "    -sum(dnorm(x, mean=mu, sd = sigma, log =TRUE))\n",
        "}\n",
        "\n",
        "# 2. Начальное приближение: среднее и sd выборки\n",
        "start_params <- c(mean(data), sd(data))\n",
        "\n",
        "# 3. Оптимизация: минимизируем отрицательное log-likelihood\n",
        "mle_fit <- optim(\n",
        "  par = start_params,\n",
        "  fn = log_likelihood,\n",
        "  x = data,\n",
        "  method = \"L-BFGS-B\",\n",
        "  lower = c(-Inf, 1e-6)  # ограничение на σ > 0\n",
        ")\n",
        "\n",
        "mle_fit <- optim(\n",
        "    par = start_params,\n",
        "    fn=log_likelihood,\n",
        "    x=data,\n",
        "    method=\"L-BFGS-B\",\n",
        "    lower = c(-Inf, 1e-6)\n",
        ")\n",
        "\n",
        "# 4. Результаты оценки\n",
        "mu_mle <- mle_fit$par[1]\n",
        "sigma_mle <- mle_fit$par[2]\n",
        "\n",
        "cat(\"Оценка MLE для среднего (mu):\", mu_mle, \"\\n\")\n",
        "cat(\"Оценка MLE для стандартного отклонения (sigma):\", sigma_mle, \"\\n\")"
      ],
      "metadata": {
        "colab": {
          "base_uri": "https://localhost:8080/"
        },
        "id": "OD_tnoOYNyJV",
        "outputId": "e1ed7967-cd0f-4eaa-c3bd-ce0aeb6939eb"
      },
      "execution_count": 27,
      "outputs": [
        {
          "output_type": "stream",
          "name": "stdout",
          "text": [
            "Оценка MLE для среднего (mu): 0.2582759 \n",
            "Оценка MLE для стандартного отклонения (sigma): 0.05944053 \n"
          ]
        }
      ]
    }
  ]
}