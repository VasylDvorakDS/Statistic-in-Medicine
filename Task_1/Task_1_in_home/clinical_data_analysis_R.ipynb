{
 "cells": [
  {
   "cell_type": "markdown",
   "id": "85332796",
   "metadata": {},
   "source": [
    "# Анализ клинических данных пациентов и хроматограмм\n",
    "\n",
    "Это задание выполнено на языке **R** в среде **Google Colab**.\n",
    "\n",
    "**Что сделано:**\n",
    "1. Загрузка и чтение данных\n",
    "2. Анонимизация персональной информации\n",
    "3. Предположение о типе исследования\n",
    "4. Анализ переменных и их шкал\n",
    "5. Построение и проверка эмпирических гипотез\n"
   ]
  },
  {
   "cell_type": "code",
   "execution_count": null,
   "id": "8c239d68",
   "metadata": {},
   "outputs": [],
   "source": [
    "%load_ext rpy2.ipython"
   ]
  },
  {
   "cell_type": "code",
   "execution_count": null,
   "id": "3b134acc",
   "metadata": {},
   "outputs": [],
   "source": [
    "%%R\n",
    "install.packages(\"readr\", repos='http://cran.us.r-project.org')\n",
    "install.packages(\"dplyr\", repos='http://cran.us.r-project.org')\n",
    "install.packages(\"ggplot2\", repos='http://cran.us.r-project.org')\n",
    "install.packages(\"tidyr\", repos='http://cran.us.r-project.org')\n",
    "\n",
    "library(readr)\n",
    "library(dplyr)\n",
    "library(ggplot2)\n",
    "library(tidyr)\n"
   ]
  },
  {
   "cell_type": "code",
   "execution_count": null,
   "id": "43787c16",
   "metadata": {},
   "outputs": [],
   "source": [
    "%%R\n",
    "# Загрузка и распаковка ZIP-файла\n",
    "unzip(\"test_data.zip\", exdir = \"test_data\")\n",
    "files <- list.files(\"test_data\", full.names = TRUE)\n",
    "\n",
    "# Чтение всех CSV-файлов в список\n",
    "data_list <- lapply(files, read_csv)\n",
    "names(data_list) <- basename(files)\n",
    "\n",
    "# Просмотр первых строк каждого файла\n",
    "lapply(data_list, head)\n"
   ]
  },
  {
   "cell_type": "code",
   "execution_count": null,
   "id": "687edce6",
   "metadata": {},
   "outputs": [],
   "source": [
    "%%R\n",
    "# Функция анонимизации данных: замена ID и имён\n",
    "anonymize <- function(df) {\n",
    "  df <- df %>%\n",
    "    mutate(across(contains(\"name\"), ~\"anon_name\")) %>%\n",
    "    mutate(across(contains(\"id\"), ~sample(10000:99999, n(), replace = TRUE)))\n",
    "  return(df)\n",
    "}\n",
    "\n",
    "# Применение анонимизации ко всем таблицам\n",
    "data_anon <- lapply(data_list, anonymize)\n"
   ]
  },
  {
   "cell_type": "markdown",
   "id": "0a2e6cd8",
   "metadata": {},
   "source": [
    "## Предположения\n",
    "\n",
    "На основании структуры данных предполагается, что это **обсервационное исследование**, возможно, связанное с анализом метаболических профилей или фармакокинетики по хроматограммам.\n"
   ]
  },
  {
   "cell_type": "markdown",
   "id": "c308d3d4",
   "metadata": {},
   "source": [
    "## Примеры переменных и шкалы их измерения\n",
    "\n",
    "| Переменная           | Тип                | Шкала измерения |\n",
    "|----------------------|--------------------|------------------|\n",
    "| Age                  | Количественная     | Интервальная     |\n",
    "| Gender               | Категориальная     | Номинальная      |\n",
    "| Diagnosis_code       | Категориальная     | Номинальная      |\n",
    "| Creatinine_level     | Количественная     | Интервальная     |\n",
    "| Time_of_sampling     | Временная/фактор   | Порядковая       |\n",
    "| Area_under_curve     | Количественная     | Интервальная     |\n"
   ]
  },
  {
   "cell_type": "markdown",
   "id": "86491873",
   "metadata": {},
   "source": [
    "## Эмпирические гипотезы\n",
    "\n",
    "1. Средний уровень креатинина выше у мужчин, чем у женщин.\n",
    "2. AUC (площадь под кривой) коррелирует с возрастом.\n",
    "3. Уровни AUC различаются в зависимости от диагноза.\n"
   ]
  },
  {
   "cell_type": "code",
   "execution_count": null,
   "id": "a329dcb1",
   "metadata": {},
   "outputs": [],
   "source": [
    "%%R\n",
    "# Пример проверки гипотезы 1 (если есть такие переменные)\n",
    "data <- data_anon[[1]]\n",
    "\n",
    "# Проверка наличия нужных колонок\n",
    "colnames(data)\n",
    "\n",
    "# t-тест креатинина по полу\n",
    "if(\"Creatinine_level\" %in% colnames(data) && \"Gender\" %in% colnames(data)) {\n",
    "  print(t.test(Creatinine_level ~ Gender, data = data))\n",
    "} else {\n",
    "  print(\"В таблице нет переменных 'Creatinine_level' и 'Gender'\")\n",
    "}\n"
   ]
  }
 ],
 "metadata": {},
 "nbformat": 4,
 "nbformat_minor": 5
}