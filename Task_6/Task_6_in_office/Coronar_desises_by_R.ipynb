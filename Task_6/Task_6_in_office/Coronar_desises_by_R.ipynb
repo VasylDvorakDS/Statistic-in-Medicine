{
  "nbformat": 4,
  "nbformat_minor": 0,
  "metadata": {
    "colab": {
      "provenance": []
    },
    "kernelspec": {
      "name": "python3",
      "display_name": "Python 3"
    },
    "language_info": {
      "name": "python"
    }
  },
  "cells": [
    {
      "cell_type": "code",
      "execution_count": null,
      "metadata": {
        "id": "q-X9HuQl9rLA"
      },
      "outputs": [],
      "source": []
    },
    {
      "cell_type": "markdown",
      "source": [
        "#1 Описание данных"
      ],
      "metadata": {
        "id": "iFKTnH81-VKf"
      }
    },
    {
      "cell_type": "markdown",
      "source": [
        "Данные для были взяты отсюда – https://www.kaggle.com/dileep070/heart-disease-prediction-using-logistic-regression\n",
        "\n",
        "Данные представляют собой набор показателей здоровья и результатов опроса (всего 15 признаков). В качестве зависимой переменной выступает бинарная величина TenYearCHD — которая кодирует факт о том, заболеет ли человек коронарными болезнями сердца в течение 10 лет (кодировка “1”), или нет (кодировка “0”).\n",
        "\n",
        "Задача исследования — определить, какие факторы влияют на вероятность возникновения болезней сердца."
      ],
      "metadata": {
        "id": "T0MDELLj9tl9"
      }
    },
    {
      "cell_type": "code",
      "source": [
        "%load_ext rpy2.ipython"
      ],
      "metadata": {
        "id": "wBAqrmIU9stu"
      },
      "execution_count": 1,
      "outputs": []
    },
    {
      "cell_type": "code",
      "source": [
        "%%R\n",
        "install.packages(\"readr\", repos='http://cran.us.r-project.org')\n",
        "install.packages(\"dplyr\", repos='http://cran.us.r-project.org')\n",
        "install.packages(\"ggplot2\", repos='http://cran.us.r-project.org')\n",
        "install.packages(\"tidyr\", repos='http://cran.us.r-project.org')\n",
        "install.packages(\"gridExtra\", repos=\"http://cran.us.r-project.org\")\n",
        "install.packages(\"tidyverse\", repos='http://cran.us.r-project.org')\n",
        "\n",
        "# Загрузка библиотек\n",
        "library(readr)\n",
        "library(dplyr)\n",
        "library(ggplot2)\n",
        "library(tidyr)\n",
        "library(gridExtra)\n",
        "library(tidyverse)"
      ],
      "metadata": {
        "colab": {
          "base_uri": "https://localhost:8080/",
          "height": 1000
        },
        "collapsed": true,
        "id": "uATQKzNX9vmF",
        "outputId": "b01c617d-9d02-43d1-e8eb-bdde5096dbfb"
      },
      "execution_count": 2,
      "outputs": [
        {
          "output_type": "stream",
          "name": "stdout",
          "text": [
            "── Attaching core tidyverse packages ──────────────────────── tidyverse 2.0.0 ──\n",
            "✔ forcats   1.0.0     ✔ stringr   1.5.1\n",
            "✔ lubridate 1.9.4     ✔ tibble    3.2.1\n",
            "✔ purrr     1.0.4     \n",
            "── Conflicts ────────────────────────────────────────── tidyverse_conflicts() ──\n",
            "✖ gridExtra::combine() masks dplyr::combine()\n",
            "✖ dplyr::filter()      masks stats::filter()\n",
            "✖ dplyr::lag()         masks stats::lag()\n",
            "ℹ Use the conflicted package (<http://conflicted.r-lib.org/>) to force all conflicts to become errors\n"
          ]
        },
        {
          "output_type": "display_data",
          "data": {
            "text/plain": [
              "Installing package into ‘/usr/local/lib/R/site-library’\n",
              "(as ‘lib’ is unspecified)\n",
              "trying URL 'http://cran.us.r-project.org/src/contrib/readr_2.1.5.tar.gz'\n",
              "Content type 'application/x-gzip' length 298065 bytes (291 KB)\n",
              "==================================================\n",
              "downloaded 291 KB\n",
              "\n",
              "\n",
              "The downloaded source packages are in\n",
              "\t‘/tmp/Rtmp1cMZCz/downloaded_packages’\n",
              "Installing package into ‘/usr/local/lib/R/site-library’\n",
              "(as ‘lib’ is unspecified)\n",
              "trying URL 'http://cran.us.r-project.org/src/contrib/dplyr_1.1.4.tar.gz'\n",
              "Content type 'application/x-gzip' length 1207521 bytes (1.2 MB)\n",
              "==================================================\n",
              "downloaded 1.2 MB\n",
              "\n",
              "\n",
              "The downloaded source packages are in\n",
              "\t‘/tmp/Rtmp1cMZCz/downloaded_packages’\n",
              "Installing package into ‘/usr/local/lib/R/site-library’\n",
              "(as ‘lib’ is unspecified)\n",
              "trying URL 'http://cran.us.r-project.org/src/contrib/ggplot2_3.5.2.tar.gz'\n",
              "Content type 'application/x-gzip' length 3580451 bytes (3.4 MB)\n",
              "==================================================\n",
              "downloaded 3.4 MB\n",
              "\n",
              "\n",
              "The downloaded source packages are in\n",
              "\t‘/tmp/Rtmp1cMZCz/downloaded_packages’\n",
              "Installing package into ‘/usr/local/lib/R/site-library’\n",
              "(as ‘lib’ is unspecified)\n",
              "trying URL 'http://cran.us.r-project.org/src/contrib/tidyr_1.3.1.tar.gz'\n",
              "Content type 'application/x-gzip' length 809058 bytes (790 KB)\n",
              "==================================================\n",
              "downloaded 790 KB\n",
              "\n",
              "\n",
              "The downloaded source packages are in\n",
              "\t‘/tmp/Rtmp1cMZCz/downloaded_packages’\n",
              "Installing package into ‘/usr/local/lib/R/site-library’\n",
              "(as ‘lib’ is unspecified)\n",
              "trying URL 'http://cran.us.r-project.org/src/contrib/gridExtra_2.3.tar.gz'\n",
              "Content type 'application/x-gzip' length 1062844 bytes (1.0 MB)\n",
              "==================================================\n",
              "downloaded 1.0 MB\n",
              "\n",
              "\n",
              "The downloaded source packages are in\n",
              "\t‘/tmp/Rtmp1cMZCz/downloaded_packages’\n",
              "Installing package into ‘/usr/local/lib/R/site-library’\n",
              "(as ‘lib’ is unspecified)\n",
              "trying URL 'http://cran.us.r-project.org/src/contrib/tidyverse_2.0.0.tar.gz'\n",
              "Content type 'application/x-gzip' length 704618 bytes (688 KB)\n",
              "==================================================\n",
              "downloaded 688 KB\n",
              "\n",
              "\n",
              "The downloaded source packages are in\n",
              "\t‘/tmp/Rtmp1cMZCz/downloaded_packages’\n",
              "\n",
              "Attaching package: ‘dplyr’\n",
              "\n",
              "The following objects are masked from ‘package:stats’:\n",
              "\n",
              "    filter, lag\n",
              "\n",
              "The following objects are masked from ‘package:base’:\n",
              "\n",
              "    intersect, setdiff, setequal, union\n",
              "\n",
              "\n",
              "Attaching package: ‘gridExtra’\n",
              "\n",
              "The following object is masked from ‘package:dplyr’:\n",
              "\n",
              "    combine\n",
              "\n"
            ]
          },
          "metadata": {}
        }
      ]
    },
    {
      "cell_type": "code",
      "source": [
        "%%R\n",
        "heart_raw <- read.csv(\"framingham.csv\")\n",
        "str(heart_raw)\n"
      ],
      "metadata": {
        "colab": {
          "base_uri": "https://localhost:8080/"
        },
        "id": "LpnJ3xsE_WkH",
        "outputId": "7ed38570-9613-4107-9dd5-3c614c97cc88"
      },
      "execution_count": 3,
      "outputs": [
        {
          "output_type": "stream",
          "name": "stdout",
          "text": [
            "'data.frame':\t4238 obs. of  16 variables:\n",
            " $ male           : int  1 0 1 0 0 0 0 0 1 1 ...\n",
            " $ age            : int  39 46 48 61 46 43 63 45 52 43 ...\n",
            " $ education      : int  4 2 1 3 3 2 1 2 1 1 ...\n",
            " $ currentSmoker  : int  0 0 1 1 1 0 0 1 0 1 ...\n",
            " $ cigsPerDay     : int  0 0 20 30 23 0 0 20 0 30 ...\n",
            " $ BPMeds         : int  0 0 0 0 0 0 0 0 0 0 ...\n",
            " $ prevalentStroke: int  0 0 0 0 0 0 0 0 0 0 ...\n",
            " $ prevalentHyp   : int  0 0 0 1 0 1 0 0 1 1 ...\n",
            " $ diabetes       : int  0 0 0 0 0 0 0 0 0 0 ...\n",
            " $ totChol        : int  195 250 245 225 285 228 205 313 260 225 ...\n",
            " $ sysBP          : num  106 121 128 150 130 ...\n",
            " $ diaBP          : num  70 81 80 95 84 110 71 71 89 107 ...\n",
            " $ BMI            : num  27 28.7 25.3 28.6 23.1 ...\n",
            " $ heartRate      : int  80 95 75 65 85 77 60 79 76 93 ...\n",
            " $ glucose        : int  77 76 70 103 85 99 85 78 79 88 ...\n",
            " $ TenYearCHD     : int  0 0 0 1 0 0 1 0 0 0 ...\n"
          ]
        }
      ]
    },
    {
      "cell_type": "markdown",
      "source": [
        "#2 Предобработка данных\n",
        "Количество наблюдений в датасете, а именно 4238, позволяет нам безболезненно исключить наблюдения с пропущенными значениями.\n",
        "\n",
        "Некоторые признаки имеют бинарную природу и закодированы с помощью 0 и 1. Их необходимо сделать факторами."
      ],
      "metadata": {
        "id": "DqfvaHop_yBT"
      }
    },
    {
      "cell_type": "code",
      "source": [
        "%%R\n",
        "# Проверка на пропущенные значения (NA) по каждому столбцу\n",
        "colSums(is.na(heart_raw))\n",
        "\n",
        "# Удаление строк с хотя бы одним пропущенным значением\n",
        "heart <- na.omit(heart_raw)\n",
        "\n",
        "# Преобразование бинарных и категориальных переменных в факторный тип\n",
        "heart$male            <- as.factor(heart$male)             # Пол (0 = женщина, 1 = мужчина)\n",
        "heart$education       <- as.factor(heart$education)        # Уровень образования (категориальный)\n",
        "heart$currentSmoker   <- as.factor(heart$currentSmoker)    # Курит ли в данный момент (0/1)\n",
        "heart$BPMeds          <- as.factor(heart$BPMeds)           # Принимает ли лекарства от давления (0/1)\n",
        "heart$prevalentHyp    <- as.factor(heart$prevalentHyp)     # Гипертония (0/1)\n",
        "heart$prevalentStroke <- as.factor(heart$prevalentStroke)  # Был ли инсульт (0/1)\n",
        "heart$diabetes        <- as.factor(heart$diabetes)         # Диабет (0/1)\n"
      ],
      "metadata": {
        "id": "hLiayXtZ_hDw"
      },
      "execution_count": 4,
      "outputs": []
    },
    {
      "cell_type": "markdown",
      "source": [
        "Пробуем построить модель в лоб."
      ],
      "metadata": {
        "id": "HtlnYfLxA-QV"
      }
    },
    {
      "cell_type": "code",
      "source": [
        "%%R\n",
        "# 1. Построение логистической регрессии на всех признаках\n",
        "mod_classic <- glm(TenYearCHD ~ ., data = heart, family = \"binomial\")\n",
        "\n",
        "# 2. Создание набора новых данных для предсказаний\n",
        "new_data_classic <- heart %>%\n",
        "  group_by(male, education, currentSmoker, BPMeds, prevalentHyp, prevalentStroke, diabetes) %>%  # группируем по бинарным/категориальным переменным\n",
        "  do(data.frame(\n",
        "    glucose = seq(min(.$glucose), max(.$glucose), length.out = 100),  # 100 значений глюкозы от min до max\n",
        "    age = mean(.$age),              # усредненные значения остальных переменных\n",
        "    totChol = mean(.$totChol),\n",
        "    sysBP = mean(.$sysBP),\n",
        "    diaBP = mean(.$diaBP),\n",
        "    BMI = mean(.$BMI),\n",
        "    heartRate = mean(.$heartRate),\n",
        "    cigsPerDay = mean(.$cigsPerDay)\n",
        "  ))\n",
        "\n",
        "# 3. Предсказание вероятности CHD для новых данных\n",
        "new_data_classic$fit <- predict(mod_classic, newdata = new_data_classic, type = \"response\")  # type = \"response\" возвращает вероятности\n",
        "\n",
        "# 4. Фильтрация результатов: оставляем только нужные группы\n",
        "res <- new_data_classic %>%\n",
        "  filter(currentSmoker == 1,           # только курящие\n",
        "         prevalentHyp == 1,           # с гипертонией\n",
        "         prevalentStroke == 0,        # без инсульта\n",
        "         education == 1,              # уровень образования = 1\n",
        "         BPMeds == 0)                 # без препаратов от давления\n",
        "\n",
        "# 5. Подписи для осей по полу\n",
        "male_labs <- c(\"Female\", \"Male\")      # человекочитаемые подписи\n",
        "names(male_labs) <- c(\"0\", \"1\")       # соответствие значениям фактора male\n",
        "\n",
        "# 6. Построение графика зависимости вероятности CHD от уровня глюкозы\n",
        "ggplot(res, aes(x = glucose, y = fit)) +\n",
        "  geom_line(aes(group = diabetes, color = diabetes)) +          # линии для групп с/без диабета\n",
        "  facet_wrap(~ male, ncol = 2, labeller = labeller(male = male_labs)) +  # по полу (муж/жен)\n",
        "  geom_point(data = heart, aes(x = glucose, y = TenYearCHD),    # исходные наблюдения\n",
        "             size = 0.5, color = 'blue') +\n",
        "  theme_bw()                                                    # черно-белая тема\n"
      ],
      "metadata": {
        "colab": {
          "base_uri": "https://localhost:8080/",
          "height": 497
        },
        "id": "VENQnufVAwRA",
        "outputId": "971f556d-7f9b-4c5f-f12e-3fc2f7c78c0d"
      },
      "execution_count": 5,
      "outputs": [
        {
          "output_type": "display_data",
          "data": {
            "image/png": "[encoded data removed]",
            "text/plain": [
              "<IPython.core.display.Image object>"
            ]
          },
          "metadata": {}
        }
      ]
    },
    {
      "cell_type": "markdown",
      "source": [
        "По результатам не понятно какая переменная отложена по оси OY, и тем более, модель предсказывает отрицательные значения."
      ],
      "metadata": {
        "id": "ZYTL_RJWFlWA"
      }
    },
    {
      "cell_type": "code",
      "source": [
        "%%R\n",
        "# Преобразуем модель mod_classic в датафрейм с диагностическими переменными\n",
        "mod_classic_diag <- fortify(mod_classic)  # добавляет .fitted (предсказания) и .stdresid (стандартизованные остатки)\n",
        "\n",
        "# Строим график остатков от предсказанных значений\n",
        "ggplot(mod_classic_diag, aes(x = .fitted, y = .stdresid)) +  # ось X: предсказанные значения; ось Y: стандартизованные остатки\n",
        "  geom_point() +               # добавляем точки (каждая точка — одно наблюдение)\n",
        "  geom_vline(xintercept = 0) + # добавляем вертикальную линию при x = 0 для ориентира\n",
        "  theme_bw()                   # применяем минималистичную черно-белую тему оформления\n"
      ],
      "metadata": {
        "colab": {
          "base_uri": "https://localhost:8080/",
          "height": 497
        },
        "id": "DCG3mztUCIhx",
        "outputId": "181449f6-2a1e-4b43-f0a3-3c2c60ac6688"
      },
      "execution_count": 6,
      "outputs": [
        {
          "output_type": "display_data",
          "data": {
            "image/png": "[encoded data removed]",
            "text/plain": [
              "<IPython.core.display.Image object>"
            ]
          },
          "metadata": {}
        }
      ]
    },
    {
      "cell_type": "markdown",
      "source": [
        "#3 Подбор логистической модели\n",
        "\n",
        "3.1 Полная модель\n",
        "Подберем логистическую регрессию средствами R. Построение модели по принципу backward selection (помните, что это такое?) всегда начинается с полной модели. Однако она редко (почти никогда) бывает оптимальной."
      ],
      "metadata": {
        "id": "kEw_ds25G7aP"
      }
    },
    {
      "cell_type": "code",
      "source": [
        "%%R\n",
        "# Строим логистическую регрессию на всех переменных из таблицы heart\n",
        "mod <- glm(TenYearCHD ~ .,                 # зависимая переменная — TenYearCHD; ~ . означает \"все остальные переменные как предикторы\"\n",
        "           family = binomial(link = 'logit'),  # используем логистическую регрессию (биномиальная семья, логит-ссылка)\n",
        "           data = heart)                   # используем датафрейм heart как источник данных\n",
        "\n",
        "# Выполняем анализ отклонений (аналог ANOVA для GLM)\n",
        "anova(mod, test = \"Chisq\")"
      ],
      "metadata": {
        "colab": {
          "base_uri": "https://localhost:8080/"
        },
        "id": "IMPTqLvSITK4",
        "outputId": "b5aacc66-5649-46dc-9cc7-3317de288aa3"
      },
      "execution_count": 7,
      "outputs": [
        {
          "output_type": "stream",
          "name": "stdout",
          "text": [
            "Analysis of Deviance Table\n",
            "\n",
            "Model: binomial, link: logit\n",
            "\n",
            "Response: TenYearCHD\n",
            "\n",
            "Terms added sequentially (first to last)\n",
            "\n",
            "\n",
            "                Df Deviance Resid. Df Resid. Dev  Pr(>Chi)    \n",
            "NULL                             3655     3120.5              \n",
            "male             1   30.567      3654     3090.0 3.225e-08 ***\n",
            "age              1  206.285      3653     2883.7 < 2.2e-16 ***\n",
            "education        3    4.503      3650     2879.2 0.2119826    \n",
            "currentSmoker    1   10.172      3649     2869.0 0.0014263 ** \n",
            "cigsPerDay       1    9.552      3648     2859.4 0.0019969 ** \n",
            "BPMeds           1   11.763      3647     2847.7 0.0006043 ***\n",
            "prevalentStroke  1    2.556      3646     2845.1 0.1098858    \n",
            "prevalentHyp     1   40.631      3645     2804.5 1.839e-10 ***\n",
            "diabetes         1   10.323      3644     2794.2 0.0013135 ** \n",
            "totChol          1    5.752      3643     2788.4 0.0164699 *  \n",
            "sysBP            1   24.835      3642     2763.6 6.246e-07 ***\n",
            "diaBP            1    0.485      3641     2763.1 0.4860398    \n",
            "BMI              1    0.173      3640     2762.9 0.6776342    \n",
            "heartRate        1    0.227      3639     2762.7 0.6335120    \n",
            "glucose          1   10.797      3638     2751.9 0.0010169 ** \n",
            "---\n",
            "Signif. codes:  0 ‘***’ 0.001 ‘**’ 0.01 ‘*’ 0.05 ‘.’ 0.1 ‘ ’ 1\n"
          ]
        }
      ]
    },
    {
      "cell_type": "markdown",
      "source": [
        "#3.2 Поиск оптимальной модели\n",
        "Для тестирования логистической регрессии применяется Хи-квадрат тест. Критерием для отбора выберем AIC (информационный критерий Акаике)."
      ],
      "metadata": {
        "id": "k-j8La78JR8X"
      }
    },
    {
      "cell_type": "code",
      "source": [
        "%%R\n",
        "drop1(mod, test = \"Chi\")\n"
      ],
      "metadata": {
        "colab": {
          "base_uri": "https://localhost:8080/"
        },
        "id": "qWTAOwkLHWUg",
        "outputId": "f70b1b0a-49bf-4c74-b1f6-dc03bead871a"
      },
      "execution_count": 8,
      "outputs": [
        {
          "output_type": "stream",
          "name": "stdout",
          "text": [
            "Single term deletions\n",
            "\n",
            "Model:\n",
            "TenYearCHD ~ male + age + education + currentSmoker + cigsPerDay + \n",
            "    BPMeds + prevalentStroke + prevalentHyp + diabetes + totChol + \n",
            "    sysBP + diaBP + BMI + heartRate + glucose\n",
            "                Df Deviance    AIC    LRT  Pr(>Chi)    \n",
            "<none>               2751.9 2787.9                     \n",
            "male             1   2775.7 2809.7 23.830 1.052e-06 ***\n",
            "age              1   2839.1 2873.1 87.227 < 2.2e-16 ***\n",
            "education        3   2755.1 2785.1  3.223  0.358462    \n",
            "currentSmoker    1   2752.1 2786.1  0.213  0.644739    \n",
            "cigsPerDay       1   2760.2 2794.2  8.259  0.004055 ** \n",
            "BPMeds           1   2752.4 2786.4  0.489  0.484306    \n",
            "prevalentStroke  1   2753.9 2787.9  1.959  0.161634    \n",
            "prevalentHyp     1   2754.8 2788.8  2.847  0.091562 .  \n",
            "diabetes         1   2751.9 2785.9  0.007  0.933748    \n",
            "totChol          1   2756.3 2790.3  4.353  0.036934 *  \n",
            "sysBP            1   2768.3 2802.3 16.414 5.089e-05 ***\n",
            "diaBP            1   2752.3 2786.3  0.403  0.525384    \n",
            "BMI              1   2752.1 2786.1  0.162  0.687472    \n",
            "heartRate        1   2752.4 2786.4  0.512  0.474344    \n",
            "glucose          1   2762.7 2796.7 10.797  0.001017 ** \n",
            "---\n",
            "Signif. codes:  0 ‘***’ 0.001 ‘**’ 0.01 ‘*’ 0.05 ‘.’ 0.1 ‘ ’ 1\n"
          ]
        }
      ]
    },
    {
      "cell_type": "code",
      "source": [
        "%%R\n",
        "# Обновляем модель: создаём новую модель mod1, исключив переменную education\n",
        "mod1 <- update(mod, . ~ . - education)\n",
        "# Проверяем, какие переменные можно удалить дальше (хи-квадрат тест)\n",
        "drop1(mod1, test = \"Chi\")"
      ],
      "metadata": {
        "colab": {
          "base_uri": "https://localhost:8080/"
        },
        "id": "EgVIxRn4Jf44",
        "outputId": "613757d3-c8af-4c97-c52b-9b36c824a56d"
      },
      "execution_count": 9,
      "outputs": [
        {
          "output_type": "stream",
          "name": "stdout",
          "text": [
            "Single term deletions\n",
            "\n",
            "Model:\n",
            "TenYearCHD ~ male + age + currentSmoker + cigsPerDay + BPMeds + \n",
            "    prevalentStroke + prevalentHyp + diabetes + totChol + sysBP + \n",
            "    diaBP + BMI + heartRate + glucose\n",
            "                Df Deviance    AIC    LRT  Pr(>Chi)    \n",
            "<none>               2755.1 2785.1                     \n",
            "male             1   2781.1 2809.1 26.008 3.400e-07 ***\n",
            "age              1   2852.3 2880.3 97.136 < 2.2e-16 ***\n",
            "currentSmoker    1   2755.3 2783.3  0.207  0.649478    \n",
            "cigsPerDay       1   2763.4 2791.4  8.238  0.004103 ** \n",
            "BPMeds           1   2755.6 2783.6  0.448  0.503321    \n",
            "prevalentStroke  1   2757.1 2785.1  1.984  0.158987    \n",
            "prevalentHyp     1   2758.0 2786.0  2.835  0.092204 .  \n",
            "diabetes         1   2755.2 2783.2  0.019  0.891789    \n",
            "totChol          1   2759.1 2787.1  3.995  0.045647 *  \n",
            "sysBP            1   2772.2 2800.2 17.114 3.519e-05 ***\n",
            "diaBP            1   2755.6 2783.6  0.515  0.473137    \n",
            "BMI              1   2755.5 2783.5  0.402  0.525934    \n",
            "heartRate        1   2755.7 2783.7  0.536  0.463923    \n",
            "glucose          1   2765.6 2793.6 10.501  0.001193 ** \n",
            "---\n",
            "Signif. codes:  0 ‘***’ 0.001 ‘**’ 0.01 ‘*’ 0.05 ‘.’ 0.1 ‘ ’ 1\n"
          ]
        }
      ]
    },
    {
      "cell_type": "code",
      "source": [
        "%%R\n",
        "# Шаг: исключаем переменную currentSmoker из предыдущей модели mod1\n",
        "mod2 <- update(mod1, . ~ . - currentSmoker)\n",
        "\n",
        "# Применяем хи-квадрат тест для оценки значимости оставшихся переменных\n",
        "drop1(mod2, test = \"Chi\")\n"
      ],
      "metadata": {
        "colab": {
          "base_uri": "https://localhost:8080/"
        },
        "id": "yCPZ61-qJ_xs",
        "outputId": "2b1dcb0f-8fbd-45d4-f976-aa39d75a2e68"
      },
      "execution_count": 10,
      "outputs": [
        {
          "output_type": "stream",
          "name": "stdout",
          "text": [
            "Single term deletions\n",
            "\n",
            "Model:\n",
            "TenYearCHD ~ male + age + cigsPerDay + BPMeds + prevalentStroke + \n",
            "    prevalentHyp + diabetes + totChol + sysBP + diaBP + BMI + \n",
            "    heartRate + glucose\n",
            "                Df Deviance    AIC    LRT  Pr(>Chi)    \n",
            "<none>               2755.3 2783.3                     \n",
            "male             1   2781.3 2807.3 25.961 3.484e-07 ***\n",
            "age              1   2852.3 2878.3 96.975 < 2.2e-16 ***\n",
            "cigsPerDay       1   2777.4 2803.4 22.102 2.586e-06 ***\n",
            "BPMeds           1   2755.8 2781.8  0.449  0.502840    \n",
            "prevalentStroke  1   2757.3 2783.3  1.975  0.159878    \n",
            "prevalentHyp     1   2758.2 2784.2  2.825  0.092796 .  \n",
            "diabetes         1   2755.3 2781.3  0.018  0.894034    \n",
            "totChol          1   2759.3 2785.3  3.969  0.046347 *  \n",
            "sysBP            1   2772.5 2798.5 17.190 3.382e-05 ***\n",
            "diaBP            1   2755.9 2781.9  0.532  0.465735    \n",
            "BMI              1   2755.7 2781.7  0.343  0.558098    \n",
            "heartRate        1   2755.9 2781.9  0.523  0.469752    \n",
            "glucose          1   2765.8 2791.8 10.489  0.001201 ** \n",
            "---\n",
            "Signif. codes:  0 ‘***’ 0.001 ‘**’ 0.01 ‘*’ 0.05 ‘.’ 0.1 ‘ ’ 1\n"
          ]
        }
      ]
    },
    {
      "cell_type": "code",
      "source": [
        "%%R\n",
        "# Шаг: исключаем переменную diabetes из предыдущей модели mod2\n",
        "mod3 <- update(mod2, . ~ . - diabetes)\n",
        "\n",
        "# Применяем хи-квадрат тест для оценки значимости оставшихся переменных\n",
        "drop1(mod3, test = \"Chi\")\n"
      ],
      "metadata": {
        "colab": {
          "base_uri": "https://localhost:8080/"
        },
        "id": "ntPCdFbvKs1u",
        "outputId": "d0c8dad1-dbec-4a4a-a3c3-28e252d29dac"
      },
      "execution_count": 11,
      "outputs": [
        {
          "output_type": "stream",
          "name": "stdout",
          "text": [
            "Single term deletions\n",
            "\n",
            "Model:\n",
            "TenYearCHD ~ male + age + cigsPerDay + BPMeds + prevalentStroke + \n",
            "    prevalentHyp + totChol + sysBP + diaBP + BMI + heartRate + \n",
            "    glucose\n",
            "                Df Deviance    AIC    LRT  Pr(>Chi)    \n",
            "<none>               2755.3 2781.3                     \n",
            "male             1   2781.4 2805.4 26.019 3.381e-07 ***\n",
            "age              1   2852.5 2876.5 97.151 < 2.2e-16 ***\n",
            "cigsPerDay       1   2777.4 2801.4 22.086 2.607e-06 ***\n",
            "BPMeds           1   2755.8 2779.8  0.452   0.50157    \n",
            "prevalentStroke  1   2757.3 2781.3  1.973   0.16014    \n",
            "prevalentHyp     1   2758.2 2782.2  2.832   0.09241 .  \n",
            "totChol          1   2759.3 2783.3  3.976   0.04614 *  \n",
            "sysBP            1   2772.6 2796.6 17.201 3.362e-05 ***\n",
            "diaBP            1   2755.9 2779.9  0.538   0.46330    \n",
            "BMI              1   2755.7 2779.7  0.355   0.55136    \n",
            "heartRate        1   2755.9 2779.9  0.524   0.46931    \n",
            "glucose          1   2774.2 2798.2 18.793 1.457e-05 ***\n",
            "---\n",
            "Signif. codes:  0 ‘***’ 0.001 ‘**’ 0.01 ‘*’ 0.05 ‘.’ 0.1 ‘ ’ 1\n"
          ]
        }
      ]
    },
    {
      "cell_type": "code",
      "source": [
        "%%R\n",
        "# Шаг: исключаем переменную BPMeds (приём лекарств от давления) из модели mod3\n",
        "mod4 <- update(mod3, . ~ . - BPMeds)\n",
        "\n",
        "# Проверяем значимость остальных переменных с помощью хи-квадрат теста\n",
        "drop1(mod4, test = \"Chi\")\n"
      ],
      "metadata": {
        "colab": {
          "base_uri": "https://localhost:8080/"
        },
        "id": "zZSOX4bXKwO0",
        "outputId": "5de174dc-d538-4ac9-d709-2a12bb44e4b7"
      },
      "execution_count": 12,
      "outputs": [
        {
          "output_type": "stream",
          "name": "stdout",
          "text": [
            "Single term deletions\n",
            "\n",
            "Model:\n",
            "TenYearCHD ~ male + age + cigsPerDay + prevalentStroke + prevalentHyp + \n",
            "    totChol + sysBP + diaBP + BMI + heartRate + glucose\n",
            "                Df Deviance    AIC    LRT  Pr(>Chi)    \n",
            "<none>               2755.8 2779.8                     \n",
            "male             1   2781.6 2803.6 25.785 3.816e-07 ***\n",
            "age              1   2853.1 2875.1 97.281 < 2.2e-16 ***\n",
            "cigsPerDay       1   2777.9 2799.9 22.090 2.602e-06 ***\n",
            "prevalentStroke  1   2758.0 2780.0  2.211   0.13703    \n",
            "prevalentHyp     1   2758.8 2780.8  3.044   0.08104 .  \n",
            "totChol          1   2759.9 2781.9  4.072   0.04360 *  \n",
            "sysBP            1   2773.9 2795.9 18.133 2.060e-05 ***\n",
            "diaBP            1   2756.4 2778.4  0.564   0.45246    \n",
            "BMI              1   2756.2 2778.2  0.373   0.54119    \n",
            "heartRate        1   2756.4 2778.4  0.567   0.45142    \n",
            "glucose          1   2774.7 2796.7 18.870 1.399e-05 ***\n",
            "---\n",
            "Signif. codes:  0 ‘***’ 0.001 ‘**’ 0.01 ‘*’ 0.05 ‘.’ 0.1 ‘ ’ 1\n"
          ]
        }
      ]
    },
    {
      "cell_type": "code",
      "source": [
        "%%R\n",
        "# Шаг: исключаем переменную BMI (индекс массы тела) из модели mod4\n",
        "mod5 <- update(mod4, . ~ . - BMI)\n",
        "\n",
        "# Проверяем значимость оставшихся переменных с помощью хи-квадрат теста\n",
        "drop1(mod5, test = \"Chi\")\n"
      ],
      "metadata": {
        "colab": {
          "base_uri": "https://localhost:8080/"
        },
        "id": "3AbE4vEqK-om",
        "outputId": "4db34af4-d601-4ef3-98ea-6c6b711049f7"
      },
      "execution_count": 13,
      "outputs": [
        {
          "output_type": "stream",
          "name": "stdout",
          "text": [
            "Single term deletions\n",
            "\n",
            "Model:\n",
            "TenYearCHD ~ male + age + cigsPerDay + prevalentStroke + prevalentHyp + \n",
            "    totChol + sysBP + diaBP + heartRate + glucose\n",
            "                Df Deviance    AIC    LRT  Pr(>Chi)    \n",
            "<none>               2756.2 2778.2                     \n",
            "male             1   2782.2 2802.2 26.012 3.392e-07 ***\n",
            "age              1   2853.4 2873.4 97.234 < 2.2e-16 ***\n",
            "cigsPerDay       1   2778.0 2798.0 21.781 3.056e-06 ***\n",
            "prevalentStroke  1   2758.4 2778.4  2.260   0.13277    \n",
            "prevalentHyp     1   2759.4 2779.4  3.203   0.07350 .  \n",
            "totChol          1   2760.3 2780.3  4.125   0.04225 *  \n",
            "sysBP            1   2774.3 2794.3 18.130 2.064e-05 ***\n",
            "diaBP            1   2756.6 2776.6  0.422   0.51604    \n",
            "heartRate        1   2756.7 2776.7  0.553   0.45716    \n",
            "glucose          1   2775.4 2795.4 19.247 1.148e-05 ***\n",
            "---\n",
            "Signif. codes:  0 ‘***’ 0.001 ‘**’ 0.01 ‘*’ 0.05 ‘.’ 0.1 ‘ ’ 1\n"
          ]
        }
      ]
    },
    {
      "cell_type": "code",
      "source": [
        "%%R\n",
        "# Шаг: исключаем переменную diaBP (диастолическое давление) из модели mod5\n",
        "mod6 <- update(mod5, . ~ . - diaBP)\n",
        "\n",
        "# Проверяем значимость оставшихся переменных в модели mod6 с помощью хи-квадрат теста\n",
        "drop1(mod6, test = \"Chi\")\n"
      ],
      "metadata": {
        "colab": {
          "base_uri": "https://localhost:8080/"
        },
        "id": "nxSoz-gxLPNv",
        "outputId": "25456278-2c70-49b5-c4c2-c3c4533e303c"
      },
      "execution_count": 14,
      "outputs": [
        {
          "output_type": "stream",
          "name": "stdout",
          "text": [
            "Single term deletions\n",
            "\n",
            "Model:\n",
            "TenYearCHD ~ male + age + cigsPerDay + prevalentStroke + prevalentHyp + \n",
            "    totChol + sysBP + heartRate + glucose\n",
            "                Df Deviance    AIC     LRT  Pr(>Chi)    \n",
            "<none>               2756.6 2776.6                      \n",
            "male             1   2782.2 2800.2  25.593 4.216e-07 ***\n",
            "age              1   2861.4 2879.4 104.828 < 2.2e-16 ***\n",
            "cigsPerDay       1   2778.7 2796.7  22.058 2.646e-06 ***\n",
            "prevalentStroke  1   2758.8 2776.8   2.219   0.13629    \n",
            "prevalentHyp     1   2759.5 2777.5   2.924   0.08726 .  \n",
            "totChol          1   2760.7 2778.7   4.130   0.04214 *  \n",
            "sysBP            1   2781.9 2799.9  25.346 4.791e-07 ***\n",
            "heartRate        1   2757.2 2775.2   0.594   0.44071    \n",
            "glucose          1   2776.2 2794.2  19.645 9.324e-06 ***\n",
            "---\n",
            "Signif. codes:  0 ‘***’ 0.001 ‘**’ 0.01 ‘*’ 0.05 ‘.’ 0.1 ‘ ’ 1\n"
          ]
        }
      ]
    },
    {
      "cell_type": "code",
      "source": [
        "%%R\n",
        "# Шаг: исключаем переменную heartRate (частота сердечных сокращений) из модели mod6\n",
        "mod7 <- update(mod6, . ~ . - heartRate)\n",
        "\n",
        "# Проверяем значимость оставшихся переменных в модели mod7 с помощью хи-квадрат теста\n",
        "drop1(mod7, test = \"Chi\")\n"
      ],
      "metadata": {
        "colab": {
          "base_uri": "https://localhost:8080/"
        },
        "id": "DE4qMu57LXFG",
        "outputId": "8051c4c4-c69e-4ada-9310-1c2c9146d977"
      },
      "execution_count": 15,
      "outputs": [
        {
          "output_type": "stream",
          "name": "stdout",
          "text": [
            "Single term deletions\n",
            "\n",
            "Model:\n",
            "TenYearCHD ~ male + age + cigsPerDay + prevalentStroke + prevalentHyp + \n",
            "    totChol + sysBP + glucose\n",
            "                Df Deviance    AIC     LRT  Pr(>Chi)    \n",
            "<none>               2757.2 2775.2                      \n",
            "male             1   2784.1 2800.1  26.881 2.163e-07 ***\n",
            "age              1   2863.9 2879.9 106.669 < 2.2e-16 ***\n",
            "cigsPerDay       1   2778.7 2794.7  21.496 3.545e-06 ***\n",
            "prevalentStroke  1   2759.5 2775.5   2.285   0.13061    \n",
            "prevalentHyp     1   2760.0 2776.0   2.786   0.09507 .  \n",
            "totChol          1   2761.2 2777.2   3.969   0.04633 *  \n",
            "sysBP            1   2782.0 2798.0  24.805 6.343e-07 ***\n",
            "glucose          1   2776.4 2792.4  19.176 1.192e-05 ***\n",
            "---\n",
            "Signif. codes:  0 ‘***’ 0.001 ‘**’ 0.01 ‘*’ 0.05 ‘.’ 0.1 ‘ ’ 1\n"
          ]
        }
      ]
    },
    {
      "cell_type": "code",
      "source": [
        "%%R\n",
        "# Шаг: исключаем переменную prevalentStroke (наличие инсульта в анамнезе) из модели mod7\n",
        "mod8 <- update(mod7, . ~ . - prevalentStroke)\n",
        "\n",
        "# Проверяем значимость оставшихся переменных в модели mod8 с помощью хи-квадрат теста\n",
        "drop1(mod8, test = \"Chi\")\n"
      ],
      "metadata": {
        "colab": {
          "base_uri": "https://localhost:8080/"
        },
        "id": "vqgcUYe4LhpV",
        "outputId": "ed451c18-11f1-44c8-cd15-0bc3f4da6a83"
      },
      "execution_count": 16,
      "outputs": [
        {
          "output_type": "stream",
          "name": "stdout",
          "text": [
            "Single term deletions\n",
            "\n",
            "Model:\n",
            "TenYearCHD ~ male + age + cigsPerDay + prevalentHyp + totChol + \n",
            "    sysBP + glucose\n",
            "             Df Deviance    AIC     LRT  Pr(>Chi)    \n",
            "<none>            2759.5 2775.5                      \n",
            "male          1   2786.5 2800.5  27.016 2.017e-07 ***\n",
            "age           1   2867.1 2881.1 107.621 < 2.2e-16 ***\n",
            "cigsPerDay    1   2780.6 2794.6  21.098 4.365e-06 ***\n",
            "prevalentHyp  1   2762.5 2776.5   2.997   0.08341 .  \n",
            "totChol       1   2763.4 2777.4   3.943   0.04708 *  \n",
            "sysBP         1   2784.5 2798.5  24.982 5.787e-07 ***\n",
            "glucose       1   2778.7 2792.7  19.222 1.164e-05 ***\n",
            "---\n",
            "Signif. codes:  0 ‘***’ 0.001 ‘**’ 0.01 ‘*’ 0.05 ‘.’ 0.1 ‘ ’ 1\n"
          ]
        }
      ]
    },
    {
      "cell_type": "code",
      "source": [
        "%%R\n",
        "# Шаг: исключаем переменную prevalentHyp (наличие гипертонии) из модели mod8\n",
        "mod9 <- update(mod8, . ~ . - prevalentHyp)\n",
        "\n",
        "# Проверяем значимость оставшихся переменных в модели mod9 с помощью хи-квадрат теста\n",
        "drop1(mod9, test = \"Chi\")\n"
      ],
      "metadata": {
        "colab": {
          "base_uri": "https://localhost:8080/"
        },
        "id": "zgLt71BHLp2D",
        "outputId": "785d1aae-ead7-45a5-b617-c6efd2c863b9"
      },
      "execution_count": 17,
      "outputs": [
        {
          "output_type": "stream",
          "name": "stdout",
          "text": [
            "Single term deletions\n",
            "\n",
            "Model:\n",
            "TenYearCHD ~ male + age + cigsPerDay + totChol + sysBP + glucose\n",
            "           Df Deviance    AIC     LRT  Pr(>Chi)    \n",
            "<none>          2762.5 2776.5                      \n",
            "male        1   2790.3 2802.3  27.800 1.345e-07 ***\n",
            "age         1   2871.7 2883.7 109.240 < 2.2e-16 ***\n",
            "cigsPerDay  1   2783.3 2795.3  20.793 5.118e-06 ***\n",
            "totChol     1   2766.5 2778.5   4.051   0.04415 *  \n",
            "sysBP       1   2829.2 2841.2  66.744 3.091e-16 ***\n",
            "glucose     1   2781.4 2793.4  18.906 1.373e-05 ***\n",
            "---\n",
            "Signif. codes:  0 ‘***’ 0.001 ‘**’ 0.01 ‘*’ 0.05 ‘.’ 0.1 ‘ ’ 1\n"
          ]
        }
      ]
    },
    {
      "cell_type": "code",
      "source": [
        "%%R\n",
        "# Шаг: создаём модель mod2, исключив переменную currentSmoker (признак, курит ли человек сейчас) из модели mod1\n",
        "mod2 <- update(mod1, . ~ . - currentSmoker)\n",
        "\n",
        "# Проверяем значимость оставшихся переменных в модели mod2 с помощью хи-квадрат теста\n",
        "drop1(mod2, test = \"Chi\")\n"
      ],
      "metadata": {
        "colab": {
          "base_uri": "https://localhost:8080/"
        },
        "id": "2AMGtb2zLxze",
        "outputId": "19227cf3-6d87-4c40-b880-9c139c4937d3"
      },
      "execution_count": 18,
      "outputs": [
        {
          "output_type": "stream",
          "name": "stdout",
          "text": [
            "Single term deletions\n",
            "\n",
            "Model:\n",
            "TenYearCHD ~ male + age + cigsPerDay + BPMeds + prevalentStroke + \n",
            "    prevalentHyp + diabetes + totChol + sysBP + diaBP + BMI + \n",
            "    heartRate + glucose\n",
            "                Df Deviance    AIC    LRT  Pr(>Chi)    \n",
            "<none>               2755.3 2783.3                     \n",
            "male             1   2781.3 2807.3 25.961 3.484e-07 ***\n",
            "age              1   2852.3 2878.3 96.975 < 2.2e-16 ***\n",
            "cigsPerDay       1   2777.4 2803.4 22.102 2.586e-06 ***\n",
            "BPMeds           1   2755.8 2781.8  0.449  0.502840    \n",
            "prevalentStroke  1   2757.3 2783.3  1.975  0.159878    \n",
            "prevalentHyp     1   2758.2 2784.2  2.825  0.092796 .  \n",
            "diabetes         1   2755.3 2781.3  0.018  0.894034    \n",
            "totChol          1   2759.3 2785.3  3.969  0.046347 *  \n",
            "sysBP            1   2772.5 2798.5 17.190 3.382e-05 ***\n",
            "diaBP            1   2755.9 2781.9  0.532  0.465735    \n",
            "BMI              1   2755.7 2781.7  0.343  0.558098    \n",
            "heartRate        1   2755.9 2781.9  0.523  0.469752    \n",
            "glucose          1   2765.8 2791.8 10.489  0.001201 ** \n",
            "---\n",
            "Signif. codes:  0 ‘***’ 0.001 ‘**’ 0.01 ‘*’ 0.05 ‘.’ 0.1 ‘ ’ 1\n"
          ]
        }
      ]
    },
    {
      "cell_type": "markdown",
      "source": [
        "Сравним AIC для всех стадий отбора модели. Видим, что с удалением предикторов AIC уменьшается, что хорошо."
      ],
      "metadata": {
        "id": "ZylKfZB0MLCG"
      }
    },
    {
      "cell_type": "code",
      "source": [
        "%%R\n",
        "AIC(mod, mod1, mod2, mod3, mod4, mod5, mod6, mod7, mod8, mod9)\n"
      ],
      "metadata": {
        "colab": {
          "base_uri": "https://localhost:8080/"
        },
        "id": "3rqRRPEmL77b",
        "outputId": "8cc53eca-b4c2-46bd-cf6c-83e870fe2e85"
      },
      "execution_count": 20,
      "outputs": [
        {
          "output_type": "stream",
          "name": "stdout",
          "text": [
            "     df      AIC\n",
            "mod  18 2787.905\n",
            "mod1 15 2785.128\n",
            "mod2 14 2783.335\n",
            "mod3 13 2781.353\n",
            "mod4 12 2779.804\n",
            "mod5 11 2778.178\n",
            "mod6 10 2776.600\n",
            "mod7  9 2775.194\n",
            "mod8  8 2775.479\n",
            "mod9  7 2776.476\n"
          ]
        }
      ]
    },
    {
      "cell_type": "markdown",
      "source": [
        "#4 Диагностика модели\n",
        "Прежде чем переходить к интерпретации модели, необходимо проверить её корректность.\n",
        "\n",
        "4.1 Проверка на линейность\n",
        "Линейность связи почти в порядке (немного завышен хвост, но не критично)."
      ],
      "metadata": {
        "id": "z4ak0iIqNFX8"
      }
    },
    {
      "cell_type": "code",
      "source": [
        "%%R\n",
        "# Создаём датафрейм с предсказанными значениями и остатками модели mod9\n",
        "mod9_diag <- data.frame(\n",
        "  .fitted = fitted(mod9, type = \"response\"),   # предсказанные вероятности (от 0 до 1)\n",
        "  .resid_p = resid(mod9, type = \"pearson\")     # остатки Пирсона (оценка ошибки)\n",
        ")\n",
        "\n",
        "# Строим график остатков Пирсона против предсказанных значений\n",
        "ggplot(mod9_diag, aes(y = .resid_p, x = .fitted)) +\n",
        "  geom_point() +                       # добавляем точки (каждое наблюдение)\n",
        "  theme_bw() +                         # применяем черно-белую тему\n",
        "  geom_hline(yintercept = 0) +        # горизонтальная линия y = 0 — идеальный случай\n",
        "  geom_smooth(method = 'loess')       # добавляем сглаженную кривую тренда (локальная регрессия)\n"
      ],
      "metadata": {
        "colab": {
          "base_uri": "https://localhost:8080/",
          "height": 514
        },
        "id": "I1ZAv0LTM6HC",
        "outputId": "de6dfa02-030f-4d62-ade2-1b5f9795e743"
      },
      "execution_count": 22,
      "outputs": [
        {
          "output_type": "stream",
          "name": "stdout",
          "text": [
            "`geom_smooth()` using formula = 'y ~ x'\n"
          ]
        },
        {
          "output_type": "display_data",
          "data": {
            "image/png": "[encoded data removed]",
            "text/plain": [
              "<IPython.core.display.Image object>"
            ]
          },
          "metadata": {}
        }
      ]
    },
    {
      "cell_type": "markdown",
      "source": [
        "#5 Проверка на сверхдисперсию\n",
        "Используем авторскую функцию для проверки на сверхдисперсию. Всё в порядке."
      ],
      "metadata": {
        "id": "ApgDEIn0N7j8"
      }
    },
    {
      "cell_type": "code",
      "source": [
        "%%R\n",
        "# Функция для проверки на сверхдисперсию (основана на остатках Пирсона)\n",
        "overdisp_fun <- function(model) {\n",
        "  rdf <- df.residual(model)  # Количество степеней свободы модели (n - p)\n",
        "\n",
        "  # Корректировка для модели с отрицательным биномиальным распределением\n",
        "  if (any(class(model) == \"negbin\")) rdf <- rdf - 1\n",
        "\n",
        "  # Расчёт остатков Пирсона\n",
        "  rp <- residuals(model, type = \"pearson\")\n",
        "\n",
        "  # Вычисление суммы квадратов остатков\n",
        "  Pearson.chisq <- sum(rp^2)\n",
        "\n",
        "  # Отношение суммы квадратов остатков к числу степеней свободы\n",
        "  prat <- Pearson.chisq / rdf\n",
        "\n",
        "  # p-value по хи-квадрат распределению\n",
        "  pval <- pchisq(Pearson.chisq, df = rdf, lower.tail = FALSE)\n",
        "\n",
        "  # Возврат результатов как вектор\n",
        "  c(chisq = Pearson.chisq, ratio = prat, rdf = rdf, p = pval)\n",
        "}\n",
        "\n",
        "# Применение к модели mod9\n",
        "overdisp_fun(mod9)\n"
      ],
      "metadata": {
        "colab": {
          "base_uri": "https://localhost:8080/"
        },
        "id": "xHO61mRQNlpY",
        "outputId": "6a4433f7-9f8d-4e04-80e0-2751d2aed5e1"
      },
      "execution_count": 23,
      "outputs": [
        {
          "output_type": "stream",
          "name": "stdout",
          "text": [
            "       chisq        ratio          rdf            p \n",
            "3670.8713682    1.0059938 3649.0000000    0.3961557 \n"
          ]
        }
      ]
    },
    {
      "cell_type": "markdown",
      "source": [
        "#6 Интерпретация коэффициентов модели\n",
        "Наша итоговая модель выглядит так:\n",
        "\n",
        "TenYearCHD = -9.13 + 0.561*male1 + 0.066*age + 0.019*cigsPerDay + 0.002*totChol + 0.017*sysBP + 0.007*glucose + E\n",
        "\n",
        "b0 (intercept) — логарифм отношения шансов для базового уровня дискретного фактора\n",
        "\n",
        "b1 (male1) — на сколько единиц изменяется логарифм отношения шансов (logit) для данного уровня дискретного фактора по сравнению с базовым уровнем\n",
        "\n",
        "b2–b5 — на сколько единиц изменяется логарифм отношения шансов (logit), если значение предиктора изменяется на единицу\n",
        "\n",
        "#6.1 Трактовка нашей модели\n",
        "Отношение шансов заболеть, если вы мужчина, в\n",
        "𝑒\n",
        "0.56\n",
        "=\n",
        "1.75\n",
        "e\n",
        "0.56\n",
        " =1.75 раза выше, чем если вы женщина.\n",
        "\n",
        "При увеличении числа выкуренных сигарет в день на единицу отношение шансов заболеть увеличится в\n",
        "𝑒\n",
        "0.019\n",
        "=\n",
        "1.02\n",
        "e\n",
        "0.019\n",
        " =1.02 раза. Чем больше сигарет — тем выше риски.\n",
        "\n",
        "И так далее со всеми непрерывными предикторами.\n",
        "\n",
        "#7 Предсказания модели\n",
        "#7.1 Искусственный датасет\n",
        "Создадим искусственный датасет, в котором будет 200 наблюдений (по 100 на каждый пол). Значения всех предикторов будут равны их средним, кроме предиктора cigsPerDay. Он будет принимать значения от минимума до максимума по выборке.\n",
        "\n"
      ],
      "metadata": {
        "id": "uGto8SAWPfG6"
      }
    },
    {
      "cell_type": "code",
      "source": [
        "%%R\n",
        "# Создаём новый искусственный датафрейм new_data\n",
        "# Для каждого пола (male = 0 или 1) варьируем cigsPerDay от минимума до максимума\n",
        "# Остальные переменные фиксируем на среднем уровне\n",
        "new_data <- heart %>%\n",
        "  group_by(male) %>%  # группируем по полу (0 — женщина, 1 — мужчина)\n",
        "  do(data.frame(\n",
        "    cigsPerDay = seq(from = min(.$cigsPerDay), to = max(.$cigsPerDay), length.out = 10),  # создаём 10 значений от мин до макс\n",
        "    age = mean(.$age),         # фиксируем среднее значение возраста\n",
        "    totChol = mean(.$totChol), # средний уровень холестерина\n",
        "    sysBP = mean(.$sysBP),     # среднее систолическое давление\n",
        "    glucose = mean(.$glucose)  # средний уровень глюкозы\n",
        "  ))\n"
      ],
      "metadata": {
        "id": "hTtr3L7ROeag"
      },
      "execution_count": 24,
      "outputs": []
    },
    {
      "cell_type": "markdown",
      "source": [
        "#7.2 Предсказания в матричном виде\n",
        "На основе искусственного датасета и нашей модели сделаем предсказания."
      ],
      "metadata": {
        "id": "5cdePg6BQ1Q4"
      }
    },
    {
      "cell_type": "code",
      "source": [
        "%%R\n",
        "## Предсказания модели при помощи операций с матрицами\n",
        "\n",
        "# 1. Строим модельную матрицу X и извлекаем вектор коэффициентов b\n",
        "X <- model.matrix(~ male + age + cigsPerDay + totChol + sysBP + glucose, data = new_data)\n",
        "b <- coef(mod9)\n",
        "\n",
        "# 2. Предсказанные значения в масштабе линейного предиктора (логит)\n",
        "new_data$fit_eta <- X %*% b  # логит-предсказания\n",
        "\n",
        "# 3. Стандартная ошибка для каждого логита\n",
        "new_data$se_eta <- sqrt(diag(X %*% vcov(mod9) %*% t(X)))\n",
        "\n",
        "# 4. Функция для обратной логит-трансформации (преобразование из логита в вероятность)\n",
        "logit_back <- function(x) exp(x) / (1 + exp(x))\n",
        "\n",
        "# 5. Предсказанные вероятности (логит-преобразованные значения)\n",
        "new_data$fit_pi <- logit_back(new_data$fit_eta)\n",
        "\n",
        "# 6. Границы доверительного интервала (± 2 стандартные ошибки, в масштабе вероятности)\n",
        "new_data$lwr_pi <- logit_back(new_data$fit_eta - 2 * new_data$se_eta)\n",
        "new_data$upr_pi <- logit_back(new_data$fit_eta + 2 * new_data$se_eta)\n",
        "\n",
        "# 7. Просмотр первых двух строк результата\n",
        "head(new_data, 2)\n"
      ],
      "metadata": {
        "colab": {
          "base_uri": "https://localhost:8080/"
        },
        "id": "skfHga04Qrau",
        "outputId": "e7b0a06b-6b07-49ab-fbbd-e8216a8111f8"
      },
      "execution_count": 25,
      "outputs": [
        {
          "output_type": "stream",
          "name": "stdout",
          "text": [
            "# A tibble: 2 × 11\n",
            "# Groups:   male [1]\n",
            "  male  cigsPerDay   age totChol sysBP glucose fit_eta[,1] se_eta fit_pi[,1]\n",
            "  <fct>      <dbl> <dbl>   <dbl> <dbl>   <dbl>       <dbl>  <dbl>      <dbl>\n",
            "1 0           0     49.7    240.  133.    81.8       -2.38 0.0841     0.0851\n",
            "2 0           4.78  49.7    240.  133.    81.8       -2.28 0.0795     0.0925\n",
            "# ℹ 2 more variables: lwr_pi <dbl[,1]>, upr_pi <dbl[,1]>\n"
          ]
        }
      ]
    },
    {
      "cell_type": "markdown",
      "source": [
        "#7.2.1 График предсказаний в масштабе функции связи"
      ],
      "metadata": {
        "id": "Qf9zJHdBSuGo"
      }
    },
    {
      "cell_type": "code",
      "source": [
        "%%R\n",
        "# Строим график логитов (предсказаний в масштабе функции связи)\n",
        "ggplot(new_data, aes(x = cigsPerDay, y = fit_eta, fill = male)) +\n",
        "  geom_line(aes(color = male)) +  # линия логита для каждого пола\n",
        "  geom_ribbon(                    # полоса доверительного интервала (±2 SE)\n",
        "    aes(ymin = fit_eta - 2 * se_eta,\n",
        "        ymax = fit_eta + 2 * se_eta),\n",
        "    alpha = 0.5                   # прозрачность ленты\n",
        "  ) +\n",
        "  theme_bw()                      # чёрно-белая тема оформления\n"
      ],
      "metadata": {
        "colab": {
          "base_uri": "https://localhost:8080/",
          "height": 497
        },
        "id": "9Fpajb6RSPm2",
        "outputId": "843bac45-e401-4a97-8801-0649e977d39f"
      },
      "execution_count": 26,
      "outputs": [
        {
          "output_type": "display_data",
          "data": {
            "image/png": "[encoded data removed]",
            "text/plain": [
              "<IPython.core.display.Image object>"
            ]
          },
          "metadata": {}
        }
      ]
    },
    {
      "cell_type": "markdown",
      "source": [
        "#7.2.2 График предсказаний в масштабе отклика"
      ],
      "metadata": {
        "id": "wuV6qgBUTVFN"
      }
    },
    {
      "cell_type": "code",
      "source": [
        "%%R\n",
        "# Строим график предсказанных вероятностей заболевания\n",
        "ggplot(new_data, aes(x = cigsPerDay, y = fit_pi, fill = male)) +\n",
        "\n",
        "  # Добавляем доверительную полосу (интервалы 95%)\n",
        "  geom_ribbon(aes(ymin = lwr_pi, ymax = upr_pi), alpha = 0.5) +\n",
        "\n",
        "  # Добавляем линии предсказания для каждого пола (цвет — по male)\n",
        "  geom_line(aes(color = male)) +\n",
        "\n",
        "  # Подписываем оси и заголовок графика\n",
        "  labs(\n",
        "    y = 'Вероятность',\n",
        "    x = 'Количество сигарет в день',\n",
        "    title = 'Вероятность заболеть'\n",
        "  ) +\n",
        "\n",
        "  # Применяем аккуратную черно-белую тему\n",
        "  theme_bw()\n"
      ],
      "metadata": {
        "colab": {
          "base_uri": "https://localhost:8080/",
          "height": 497
        },
        "id": "q1JRHu9nTJ4E",
        "outputId": "fc0875b3-4261-4ba6-8a52-bcfb5cb280c4"
      },
      "execution_count": 27,
      "outputs": [
        {
          "output_type": "display_data",
          "data": {
            "image/png": "[encoded data removed]",
            "text/plain": [
              "<IPython.core.display.Image object>"
            ]
          },
          "metadata": {}
        }
      ]
    }
  ]
}